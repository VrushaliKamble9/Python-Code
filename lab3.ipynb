{
  "nbformat": 4,
  "nbformat_minor": 0,
  "metadata": {
    "colab": {
      "provenance": [],
      "authorship_tag": "ABX9TyO8vYbE/3oZ1CpkYPElv7l/",
      "include_colab_link": true
    },
    "kernelspec": {
      "name": "python3",
      "display_name": "Python 3"
    },
    "language_info": {
      "name": "python"
    }
  },
  "cells": [
    {
      "cell_type": "markdown",
      "metadata": {
        "id": "view-in-github",
        "colab_type": "text"
      },
      "source": [
        "<a href=\"https://colab.research.google.com/github/VrushaliKamble9/Python-Code/blob/main/lab3.ipynb\" target=\"_parent\"><img src=\"https://colab.research.google.com/assets/colab-badge.svg\" alt=\"Open In Colab\"/></a>"
      ]
    },
    {
      "cell_type": "code",
      "execution_count": 1,
      "metadata": {
        "colab": {
          "base_uri": "https://localhost:8080/"
        },
        "id": "aUo_WVGjh5Mm",
        "outputId": "155221eb-926a-401f-ad85-87ec5365a613"
      },
      "outputs": [
        {
          "output_type": "stream",
          "name": "stdout",
          "text": [
            "{'a': 1, 'b': 2, 'c': 3}\n"
          ]
        }
      ],
      "source": [
        "d = { 'a':1, 'b':2, 'c':3 }\n",
        "print(d)"
      ]
    },
    {
      "cell_type": "code",
      "source": [
        "#Write a function min_max() that takes a tuple of numbers as input and returns a tuple consisting of the smallest and the largest numbers in the input tuple.\n",
        "def min_max(n):\n",
        "\n",
        "  min=n[0]\n",
        "  max=n[0]\n",
        "  for i in n:\n",
        "    if i < min:\n",
        "      min=i\n",
        "    if i>max:\n",
        "      max=i\n",
        "  return(min,max)\n",
        "\n",
        "r=min_max((29, 45, 6, 19))\n",
        "print(r)"
      ],
      "metadata": {
        "colab": {
          "base_uri": "https://localhost:8080/"
        },
        "id": "no1235chjLQ4",
        "outputId": "2eaaf438-1a80-4ef5-d8c4-ef24ee9c622d"
      },
      "execution_count": 4,
      "outputs": [
        {
          "output_type": "stream",
          "name": "stdout",
          "text": [
            "(6, 45)\n"
          ]
        }
      ]
    },
    {
      "cell_type": "code",
      "source": [
        "def reverse(n):\n",
        "   return n[::-1]\n",
        "\n",
        "\n",
        "print(reverse((3, 'hi', (5, 7), 8)))"
      ],
      "metadata": {
        "colab": {
          "base_uri": "https://localhost:8080/"
        },
        "id": "S6SB8nrdlvFP",
        "outputId": "befcca10-9838-47c1-da0a-d9885c7e7e26"
      },
      "execution_count": 7,
      "outputs": [
        {
          "output_type": "stream",
          "name": "stdout",
          "text": [
            "(8, (5, 7), 'hi', 3)\n"
          ]
        }
      ]
    },
    {
      "cell_type": "code",
      "source": [
        "def sum_mult(n):\n",
        "  num1=0\n",
        "  num2=1\n",
        "  for i in n :\n",
        "    num1+=i\n",
        "    num2=num2*i\n",
        "  return (num1,num2)\n",
        "\n",
        "tuple1 = (1, 2, 3, 6)\n",
        "tuple2 = (10,)\n",
        "tuple3 = ()\n",
        "\n",
        "result1 = sum_mult(tuple1)\n",
        "result2 = sum_mult(tuple2)\n",
        "result3 = sum_mult(tuple3)\n",
        "\n",
        "print(result1)  # Output: (12, 36)\n",
        "print(result2)  # Output: (10, 10)\n",
        "print(result3)  # Output: None"
      ],
      "metadata": {
        "colab": {
          "base_uri": "https://localhost:8080/"
        },
        "id": "Kngnk8AzmfEI",
        "outputId": "ec81da7c-1248-4526-db05-dd9bf33fa443"
      },
      "execution_count": 18,
      "outputs": [
        {
          "output_type": "stream",
          "name": "stdout",
          "text": [
            "(12, 36)\n",
            "(10, 10)\n",
            "(0, 1)\n"
          ]
        }
      ]
    },
    {
      "cell_type": "code",
      "source": [
        "def filter_odd(n):\n",
        "  return n[::2]\n",
        "\n",
        "# Test the function\n",
        "r=filter_odd(('I', 'love', 'Python', 'and', 'Java'))\n",
        "print(r)  # Output: 4\n"
      ],
      "metadata": {
        "colab": {
          "base_uri": "https://localhost:8080/"
        },
        "id": "xXBQgD9cplTz",
        "outputId": "048cf62f-7e7f-4954-bea9-c4b92a05e14b"
      },
      "execution_count": 6,
      "outputs": [
        {
          "output_type": "stream",
          "name": "stdout",
          "text": [
            "('I', 'Python', 'Java')\n"
          ]
        }
      ]
    },
    {
      "cell_type": "code",
      "source": [
        "import math\n",
        "def apply_to_all(n,f):\n",
        "    result = tuple(f(x) for x in n)\n",
        "    return result\n",
        "\n",
        "def sqr(n):\n",
        " return n*n\n",
        "\n",
        "def positive(n):\n",
        "  #if n is -n:\n",
        "    return abs(n)\n",
        "\n",
        "r=apply_to_all((1, -5, -6, 3), positive)\n",
        "print(r)"
      ],
      "metadata": {
        "colab": {
          "base_uri": "https://localhost:8080/"
        },
        "id": "y3NoN6td_WU_",
        "outputId": "afb11d2f-bf36-4a87-861c-0d09d267a87c"
      },
      "execution_count": 43,
      "outputs": [
        {
          "output_type": "stream",
          "name": "stdout",
          "text": [
            "(1, -5, -6, 3)\n"
          ]
        }
      ]
    },
    {
      "cell_type": "code",
      "source": [
        "import math\n",
        "def apply_to_all(n,f):\n",
        "    result = list(f(x) for x in n)\n",
        "    return result\n",
        "\n",
        "def sqr(n):\n",
        " return n*n\n",
        "\n",
        "def positive(n):\n",
        "  #if n is -n:\n",
        "    return abs(n)\n",
        "\n",
        "r=apply_to_all((1, -5, -6, 3), positive)\n",
        "print(r)"
      ],
      "metadata": {
        "colab": {
          "base_uri": "https://localhost:8080/"
        },
        "id": "-Qc_YZ0eLexx",
        "outputId": "d325bee2-b888-488a-807a-a059d700558a"
      },
      "execution_count": 46,
      "outputs": [
        {
          "output_type": "stream",
          "name": "stdout",
          "text": [
            "[1, -5, -6, 3]\n"
          ]
        }
      ]
    },
    {
      "cell_type": "code",
      "source": [
        "def make_histogram(s):\n",
        "  histogram={}\n",
        "  for i in s:\n",
        "    if i in histogram:\n",
        "      histogram[i]+=1\n",
        "    else:\n",
        "      histogram[i] = 1\n",
        "\n",
        "  return histogram\n",
        "\n",
        "r=make_histogram('parrot')\n",
        "print(r)"
      ],
      "metadata": {
        "colab": {
          "base_uri": "https://localhost:8080/"
        },
        "id": "KitveBlmPI0c",
        "outputId": "d57f0bc7-5bc5-40fa-db32-42b0592f23dc"
      },
      "execution_count": 47,
      "outputs": [
        {
          "output_type": "stream",
          "name": "stdout",
          "text": [
            "{'p': 1, 'a': 1, 'r': 2, 'o': 1, 't': 1}\n"
          ]
        }
      ]
    },
    {
      "cell_type": "code",
      "source": [
        "def has_duplicates(word):\n",
        "\n",
        "  duplicate={}\n",
        "  for char in word:\n",
        "    if char in duplicate:\n",
        "      return True\n",
        "    else:\n",
        "      duplicate[char]=None\n",
        "  return False\n",
        "print(has_duplicates(['the', 'quick', 'brown', 'fox', 'jumps', 'over', 'the', 'lazy', 'dog']))\n",
        "print(has_duplicates(['magic', 'tree', 'house']))"
      ],
      "metadata": {
        "colab": {
          "base_uri": "https://localhost:8080/"
        },
        "id": "ggJgsFodP9MS",
        "outputId": "b406b9d4-bdda-4ffb-edc4-75dc7b9f1773"
      },
      "execution_count": 55,
      "outputs": [
        {
          "output_type": "stream",
          "name": "stdout",
          "text": [
            "True\n",
            "False\n"
          ]
        }
      ]
    },
    {
      "cell_type": "code",
      "source": [
        "def get_duplicates(word):\n",
        "\n",
        "  duplicate={}\n",
        "  for char in word:\n",
        "    if char in duplicate:\n",
        "      duplicate[char]+=1\n",
        "    else:\n",
        "      duplicate[char]=1\n",
        "  return duplicate\n",
        "\n",
        "r=get_duplicates(['it', 'is', 'the', 'right', 'right', 'is', 'not', 'it', 'right'])\n",
        "print(r)"
      ],
      "metadata": {
        "colab": {
          "base_uri": "https://localhost:8080/"
        },
        "id": "56RHsgpzdmtW",
        "outputId": "3a5e63dd-a559-4a0f-beed-22d713030de3"
      },
      "execution_count": 66,
      "outputs": [
        {
          "output_type": "stream",
          "name": "stdout",
          "text": [
            "{'it': 2, 'is': 2, 'the': 1, 'right': 3, 'not': 1}\n"
          ]
        }
      ]
    },
    {
      "cell_type": "code",
      "source": [
        "def inverted_dict(d):\n",
        "  mydict={}\n",
        "  for key, value in d.items():\n",
        "    if value in mydict:\n",
        "      mydict[value].append(key)\n",
        "    else:\n",
        "      mydict[value]=[key]\n",
        "  return mydict\n",
        "\n",
        "r=inverted_dict({'p': 1, 'a': 1, 'r': 2, 'o': 1, 't': 1})\n",
        "print(r)\n"
      ],
      "metadata": {
        "colab": {
          "base_uri": "https://localhost:8080/"
        },
        "id": "FkJuBCEgU5HB",
        "outputId": "4d646188-28ac-43c1-c8d8-f846ee838bfa"
      },
      "execution_count": 8,
      "outputs": [
        {
          "output_type": "stream",
          "name": "stdout",
          "text": [
            "{1: ['p', 'a', 'o', 't'], 2: ['r']}\n"
          ]
        }
      ]
    },
    {
      "cell_type": "code",
      "source": [
        "def inverted_dict1(d):\n",
        "  mydict={}\n",
        "  for key, value in d.items():\n",
        "    mydict.setdefault(key,[]).append(value)\n",
        "  return mydict\n",
        "\n",
        "r=inverted_dict1({'p': 1, 'a': 1, 'r': 2, 'o': 1, 't': 1})\n",
        "print(r)"
      ],
      "metadata": {
        "colab": {
          "base_uri": "https://localhost:8080/"
        },
        "id": "oyXqJ1vHdyAI",
        "outputId": "d47de507-0c29-4ea4-b4f0-0fc13938a323"
      },
      "execution_count": 45,
      "outputs": [
        {
          "output_type": "stream",
          "name": "stdout",
          "text": [
            "{'p': [1], 'a': [1], 'r': [2], 'o': [1], 't': [1]}\n"
          ]
        }
      ]
    },
    {
      "cell_type": "code",
      "source": [
        "def inverted_dict2(d):\n",
        "  mydict1={}\n",
        "\n",
        "  for key, value in d.items():\n",
        "    mydict1.setdefault(value,[]).append(key)\n",
        "\n",
        "  d.clear()\n",
        "\n",
        "  d.update(mydict1)\n",
        "\n",
        "input_dict = {'p': 1, 'a': 1, 'r': 2, 'o': 1, 't': 1}\n",
        "r=inverted_dict2(input_dict)\n",
        "print(r)"
      ],
      "metadata": {
        "colab": {
          "base_uri": "https://localhost:8080/"
        },
        "id": "1Bc_huEBgEB4",
        "outputId": "9e04efc4-2720-4f22-c972-321c37a57632"
      },
      "execution_count": 59,
      "outputs": [
        {
          "output_type": "stream",
          "name": "stdout",
          "text": [
            "None\n"
          ]
        }
      ]
    },
    {
      "cell_type": "code",
      "source": [
        "def invert_dict1(d):\n",
        "    # Create a temporary dictionary to store the inverted copy\n",
        "    temp = {}\n",
        "\n",
        "    # Iterate through the items in the input dictionary\n",
        "    for key, value in d.items():\n",
        "        # Append the key to the list of keys for the value using setdefault()\n",
        "        temp.setdefault(value, []).append(key)\n",
        "\n",
        "    # Clear the input dictionary\n",
        "    d.clear()\n",
        "\n",
        "    # Update the input dictionary with the inverted copy\n",
        "    d.update(temp)\n",
        "\n",
        "# Test the function with the example dictionary\n",
        "input_dict = {'p': 1, 'a': 1, 'r': 2, 'o': 1, 't': 1}\n",
        "r=invert_dict1(input_dict)\n",
        "print(\"Mutated dictionary:\", r)  # Output: {'p': [1], 'a': [1], 'r': [2], 'o': [1], 't': [1]}\n"
      ],
      "metadata": {
        "colab": {
          "base_uri": "https://localhost:8080/"
        },
        "id": "eBx8tSSbhvK1",
        "outputId": "a77827f0-aec1-4326-eeb4-f3727e6929f0"
      },
      "execution_count": 61,
      "outputs": [
        {
          "output_type": "stream",
          "name": "stdout",
          "text": [
            "Mutated dictionary: None\n"
          ]
        }
      ]
    },
    {
      "cell_type": "code",
      "source": [
        "def rev(d):\n",
        "  #mydict={}\n",
        "  for value in d.values():\n",
        "   if value==0:\n",
        "    print(\"this can not be done\")\n",
        "   else:\n",
        "    print(\"this is allright\")\n",
        "\n",
        "r=rev({'p': 0, 'a': 1, 'r': 2, 'o': 1, 't': 1})\n",
        "print(r)"
      ],
      "metadata": {
        "colab": {
          "base_uri": "https://localhost:8080/"
        },
        "id": "VCyGZhyXZOQc",
        "outputId": "93772901-2691-4060-dfdd-115a9ab13eea"
      },
      "execution_count": 37,
      "outputs": [
        {
          "output_type": "stream",
          "name": "stdout",
          "text": [
            "this can not be done\n",
            "this is allright\n",
            "this is allright\n",
            "this is allright\n",
            "this is allright\n",
            "None\n"
          ]
        }
      ]
    },
    {
      "cell_type": "code",
      "source": [
        "def reve(d):\n",
        "  for key in d.values():\n",
        "        print(key)\n",
        "r=reve({'p': 0, 'a': 1, 'r': 2, 'o': 1, 't': 1})\n",
        "print(r)\n",
        "\n"
      ],
      "metadata": {
        "colab": {
          "base_uri": "https://localhost:8080/"
        },
        "id": "HmoI9sbqasZq",
        "outputId": "3050c872-11f4-4963-e187-788c8e0b1333"
      },
      "execution_count": 35,
      "outputs": [
        {
          "output_type": "stream",
          "name": "stdout",
          "text": [
            "0\n",
            "1\n",
            "2\n",
            "1\n",
            "1\n",
            "None\n"
          ]
        }
      ]
    }
  ]
}