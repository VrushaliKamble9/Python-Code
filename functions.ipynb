{
  "nbformat": 4,
  "nbformat_minor": 0,
  "metadata": {
    "colab": {
      "provenance": [],
      "authorship_tag": "ABX9TyMTYNxhWVuM+5jSJf8zY990",
      "include_colab_link": true
    },
    "kernelspec": {
      "name": "python3",
      "display_name": "Python 3"
    },
    "language_info": {
      "name": "python"
    }
  },
  "cells": [
    {
      "cell_type": "markdown",
      "metadata": {
        "id": "view-in-github",
        "colab_type": "text"
      },
      "source": [
        "<a href=\"https://colab.research.google.com/github/VrushaliKamble9/Python-Code/blob/main/functions.ipynb\" target=\"_parent\"><img src=\"https://colab.research.google.com/assets/colab-badge.svg\" alt=\"Open In Colab\"/></a>"
      ]
    },
    {
      "cell_type": "code",
      "execution_count": 9,
      "metadata": {
        "colab": {
          "base_uri": "https://localhost:8080/"
        },
        "id": "AFf8hguaDIPm",
        "outputId": "c01e7cef-894d-44bc-f804-9b1cf9652697"
      },
      "outputs": [
        {
          "output_type": "stream",
          "name": "stdout",
          "text": [
            "O\n",
            "O\n",
            "O\n",
            "x\n",
            "x\n",
            "O\n"
          ]
        }
      ],
      "source": [
        "a=1\n",
        "while a < 3:\n",
        "  b = 1\n",
        "  while b < 3:\n",
        "    if a == 2:\n",
        "      print(\"x\")\n",
        "    else:\n",
        "      print(\"O\")\n",
        "    b = b+1\n",
        "  print(\"O\")\n",
        "  a=a+1"
      ]
    },
    {
      "cell_type": "code",
      "source": [
        "s= \"my name is vrushali\"\n",
        "\n",
        "if \"vru\" in s:\n",
        "  s1=s.count('i')\n",
        "  print(s1)\n",
        "else:\n",
        "  print(\"try again\")"
      ],
      "metadata": {
        "colab": {
          "base_uri": "https://localhost:8080/"
        },
        "id": "pehP2aDG-5xe",
        "outputId": "5850d8d8-aefa-42cc-9115-2e923105bf60"
      },
      "execution_count": 10,
      "outputs": [
        {
          "output_type": "stream",
          "name": "stdout",
          "text": [
            "2\n"
          ]
        }
      ]
    },
    {
      "cell_type": "code",
      "source": [
        "square = 55\n",
        "epsilon = 0.01\n",
        "low = 1\n",
        "high = square\n",
        "num_guesses = 0\n",
        "guess = (low + high) / 2\n",
        "while abs(guess**2 - square) >= epsilon:\n",
        " if guess**2 < square:\n",
        "  low = guess\n",
        " else:\n",
        "  high = guess\n",
        " guess = (low + high) / 2\n",
        " num_guesses += 1\n",
        "print('num_guesses=', num_guesses)\n",
        "print(guess, 'is close to the square root of', square)\n"
      ],
      "metadata": {
        "colab": {
          "base_uri": "https://localhost:8080/"
        },
        "id": "rL1R5Y8FYgE8",
        "outputId": "cd8fb7c2-e05d-477b-d3bc-8096f12ba9bf"
      },
      "execution_count": 11,
      "outputs": [
        {
          "output_type": "stream",
          "name": "stdout",
          "text": [
            "num_guesses= 15\n",
            "7.416290283203125 is close to the square root of 55\n"
          ]
        }
      ]
    },
    {
      "cell_type": "code",
      "source": [
        "def is_val(i):\n",
        "  if i % 2 == 0:\n",
        "    print(\"you are on correct path\")\n",
        "  else:\n",
        "    print(\"you entered wrong number\")\n",
        "  return i\n",
        "\n",
        "mynum=is_val(5)\n"
      ],
      "metadata": {
        "colab": {
          "base_uri": "https://localhost:8080/"
        },
        "id": "5WAi-LHKZHwF",
        "outputId": "fd527d1b-c6d6-4aa7-d28d-6e260f56e6a6"
      },
      "execution_count": 17,
      "outputs": [
        {
          "output_type": "stream",
          "name": "stdout",
          "text": [
            "you entered wrong number\n"
          ]
        }
      ]
    },
    {
      "cell_type": "code",
      "source": [
        "def f(x):\n",
        "  \"\"\"this program is nice\"\"\"\n",
        "  return x %2==0\n",
        "\n",
        "x=5\n",
        "print(\"the value of x is\", f(x))\n",
        "n=f(8)\n",
        "if n==True:\n",
        "  print(\"its true value \")\n",
        "else:\n",
        "  print(\"no its false\")"
      ],
      "metadata": {
        "colab": {
          "base_uri": "https://localhost:8080/"
        },
        "id": "n8XB4hoZSxu1",
        "outputId": "e5c96bd7-b916-49a1-c406-d19a87e666db"
      },
      "execution_count": 16,
      "outputs": [
        {
          "output_type": "stream",
          "name": "stdout",
          "text": [
            "the value of x is False\n",
            "its true value \n"
          ]
        }
      ]
    },
    {
      "cell_type": "code",
      "source": [
        "#Write a function andThis that accepts an argument s that is a string and returns a string with \" and this\" added to the end of s.\n",
        "\n",
        "def strFunction(x):\n",
        "   return x + \" and this\"\n",
        "\n",
        "print(strFunction(\"radha\"))\n"
      ],
      "metadata": {
        "colab": {
          "base_uri": "https://localhost:8080/"
        },
        "id": "xDw2tqYDYD2G",
        "outputId": "5c6f8bcf-5253-4aed-cfe6-719eb5e91628"
      },
      "execution_count": 19,
      "outputs": [
        {
          "output_type": "stream",
          "name": "stdout",
          "text": [
            "radha and this\n"
          ]
        }
      ]
    },
    {
      "cell_type": "code",
      "source": [
        "#Write a function is_odd that accepts a single argument i, and integer and returns True if it is odd and False if it is not.\n",
        "\n",
        "def is_odd(i):\n",
        "  if i%2!=0:\n",
        "    return True\n",
        "  else:\n",
        "    return False\n",
        "\n",
        "i=10001\n",
        "print(is_odd(i))"
      ],
      "metadata": {
        "colab": {
          "base_uri": "https://localhost:8080/"
        },
        "id": "ZcTRyn97Z1yy",
        "outputId": "45edf14f-4047-46e1-dcf9-cccf1de55a25"
      },
      "execution_count": 22,
      "outputs": [
        {
          "output_type": "stream",
          "name": "stdout",
          "text": [
            "True\n"
          ]
        }
      ]
    },
    {
      "cell_type": "code",
      "source": [
        "#Write a function sumThese that accepts two arguments i and j, both integers and returns their sum.\n",
        "def sumThese(i,j):\n",
        "  return i+j\n",
        "\n",
        "print(sumThese(5,3))"
      ],
      "metadata": {
        "colab": {
          "base_uri": "https://localhost:8080/"
        },
        "id": "fs7IqMD7bz0G",
        "outputId": "428cdd4f-2e55-43b5-8c64-d4d4a9d214b5"
      },
      "execution_count": 23,
      "outputs": [
        {
          "output_type": "stream",
          "name": "stdout",
          "text": [
            "8\n"
          ]
        }
      ]
    },
    {
      "cell_type": "code",
      "source": [
        "def add(a,b):\n",
        "  return a+b\n",
        "\n",
        "def mul(a,b):\n",
        "  return a*b\n",
        "\n",
        "def sub(a,b):\n",
        "  return a-b\n",
        "\n",
        "print(add(5,3))\n",
        "print(mul(add(5,3),5))"
      ],
      "metadata": {
        "colab": {
          "base_uri": "https://localhost:8080/"
        },
        "id": "ctP8JX6ZgAQg",
        "outputId": "e9bc8c2c-52d5-4583-a4f3-16b1ff732eb8"
      },
      "execution_count": 24,
      "outputs": [
        {
          "output_type": "stream",
          "name": "stdout",
          "text": [
            "8\n",
            "40\n"
          ]
        }
      ]
    },
    {
      "cell_type": "code",
      "source": [
        "def squareThis( n ) :\n",
        "\n",
        "    \"\"\"\n",
        "\n",
        "    input integer n\n",
        "\n",
        "    output n^2\n",
        "\n",
        "    \"\"\"\n",
        "\n",
        "    return(n*n)\n",
        "\n",
        "def addThis(f1,f2):\n",
        "\n",
        "    \"\"\"\n",
        "\n",
        "    input f1,f2 functions\n",
        "\n",
        "    output sum of f1(1),f2(2)\n",
        "\n",
        "    \"\"\"\n",
        "\n",
        "    print(\"I am in addThis\")\n",
        "\n",
        "    return(f1(1) + f2(2))\n",
        "\n",
        "print(addThis(squareThis,squareThis))"
      ],
      "metadata": {
        "colab": {
          "base_uri": "https://localhost:8080/"
        },
        "id": "5BOum6KKgxE6",
        "outputId": "210da36e-3125-40e3-b5ee-a314baaf5021"
      },
      "execution_count": 25,
      "outputs": [
        {
          "output_type": "stream",
          "name": "stdout",
          "text": [
            "I am in addThis\n",
            "5\n"
          ]
        }
      ]
    },
    {
      "cell_type": "code",
      "source": [
        "def f_recall(a,b):\n",
        "  while a > 0:\n",
        "    print(\"this loop continue\")\n",
        "    a=a+b\n",
        "    return a\n",
        "\n",
        "def f_mycall(c,d):\n",
        "  while c > 0:\n",
        "    print(\"this is awesome\")\n",
        "    c=c+d\n",
        "    break\n",
        "  return c\n",
        "\n",
        "print(f_recall(1,7))\n",
        "print(f_mycall(5,f_recall(5,3)))\n"
      ],
      "metadata": {
        "colab": {
          "base_uri": "https://localhost:8080/"
        },
        "id": "Yw85xwwmmhl1",
        "outputId": "2fad3785-ec99-41c5-8653-400a8223a0bd"
      },
      "execution_count": 34,
      "outputs": [
        {
          "output_type": "stream",
          "name": "stdout",
          "text": [
            "this loop continue\n",
            "8\n",
            "this loop continue\n",
            "this is awesome\n",
            "13\n"
          ]
        }
      ]
    }
  ]
}