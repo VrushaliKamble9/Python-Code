{
  "nbformat": 4,
  "nbformat_minor": 0,
  "metadata": {
    "colab": {
      "provenance": [],
      "authorship_tag": "ABX9TyMA4uwUWY/jaQtobHENEuQJ",
      "include_colab_link": true
    },
    "kernelspec": {
      "name": "python3",
      "display_name": "Python 3"
    },
    "language_info": {
      "name": "python"
    }
  },
  "cells": [
    {
      "cell_type": "markdown",
      "metadata": {
        "id": "view-in-github",
        "colab_type": "text"
      },
      "source": [
        "<a href=\"https://colab.research.google.com/github/VrushaliKamble9/Python-Code/blob/main/Untitled18.ipynb\" target=\"_parent\"><img src=\"https://colab.research.google.com/assets/colab-badge.svg\" alt=\"Open In Colab\"/></a>"
      ]
    },
    {
      "cell_type": "code",
      "execution_count": 3,
      "metadata": {
        "colab": {
          "base_uri": "https://localhost:8080/"
        },
        "id": "A5n84vFviaPu",
        "outputId": "0cca158e-d713-4727-f99c-c47111645586"
      },
      "outputs": [
        {
          "output_type": "stream",
          "name": "stdout",
          "text": [
            "t = 174.774729894s\n",
            "t = 8.84430000098746e-05s\n"
          ]
        }
      ],
      "source": [
        "import time\n",
        "def c_to_f(c):\n",
        " return c*9/5 + 32\n",
        "t0 = time.perf_counter()\n",
        "c_to_f(100000)\n",
        "t1 = time.perf_counter() - t0\n",
        "print(\"t =\", str(t0) + \"s\")\n",
        "print(\"t =\", str(t1) + \"s\")"
      ]
    },
    {
      "cell_type": "code",
      "source": [
        "def primeNum(num):\n",
        "  flag= False\n",
        "  if num==1:\n",
        "    print(\"num is not prime\")\n",
        "  elif num>1:\n",
        "      for i in range(2,num):\n",
        "        if (num%i)==0:\n",
        "          flag =True\n",
        "          break\n",
        "  if flag:\n",
        "    print(\"this is not prime num\")\n",
        "  else:\n",
        "    print(\"this is prime num\")\n",
        "\n",
        "primeNum(4)\n"
      ],
      "metadata": {
        "colab": {
          "base_uri": "https://localhost:8080/"
        },
        "id": "InJ22s3tyOqG",
        "outputId": "e9200f07-d8c5-4da3-d68e-a651f3385467"
      },
      "execution_count": 10,
      "outputs": [
        {
          "output_type": "stream",
          "name": "stdout",
          "text": [
            "this is not prime num\n"
          ]
        }
      ]
    },
    {
      "cell_type": "code",
      "source": [
        "def is_prime(n):\n",
        "\n",
        "  if n<=1:\n",
        "    return False\n",
        "  for i in range(2,int(n**0.5)+1):\n",
        "    if n%i==0:\n",
        "      return False\n",
        "  return True\n",
        "\n",
        "def check_prime():\n",
        "  num=input(\"enter a number\")\n",
        "  num.split()\n",
        "  num=[int(i) for i in num]\n",
        "\n",
        "  for i in num:\n",
        "       if is_prime(i):\n",
        "        print(f\"{i} is prime number\")\n",
        "\n",
        "       else:\n",
        "        print(f\"{i} is not prime number\")\n",
        "\n",
        "\n",
        "check_prime()"
      ],
      "metadata": {
        "colab": {
          "base_uri": "https://localhost:8080/"
        },
        "id": "7X--IwXVyZ6e",
        "outputId": "5e2369dc-5411-4eb0-9446-609250825712"
      },
      "execution_count": 45,
      "outputs": [
        {
          "output_type": "stream",
          "name": "stdout",
          "text": [
            "enter a number12345\n",
            "1 is not prime number\n",
            "2 is prime number\n",
            "3 is prime number\n",
            "4 is not prime number\n",
            "5 is prime number\n"
          ]
        }
      ]
    },
    {
      "cell_type": "code",
      "source": [
        "num=int(input(\"enter the number \"))\n",
        "factorial=1\n",
        "if num<0:\n",
        "  print(\"no factorail available\")\n",
        "elif num==0:\n",
        "  print(\"factorial of 0 is 1\")\n",
        "else:\n",
        "  for i in range(1,num+1):\n",
        "    factorial=i*factorial\n",
        "  print(f'the factorial of {num} is {factorial}')"
      ],
      "metadata": {
        "colab": {
          "base_uri": "https://localhost:8080/"
        },
        "id": "Y_r2jCauE3TR",
        "outputId": "4453d6ec-a7d3-4746-ce2f-e42b340a9a3a"
      },
      "execution_count": 48,
      "outputs": [
        {
          "output_type": "stream",
          "name": "stdout",
          "text": [
            "enter the number 10\n",
            "the factorial of 10 is 3628800\n"
          ]
        }
      ]
    },
    {
      "cell_type": "code",
      "source": [
        "#Write a Python Program to Display the multiplication Table.\n",
        "num=int(input(\"enter number\"))\n",
        "result=1\n",
        "\n",
        "for i in range(1,11):\n",
        "  result=num*i\n",
        "  print(result)"
      ],
      "metadata": {
        "colab": {
          "base_uri": "https://localhost:8080/"
        },
        "id": "pC4Z6Lt6FvbG",
        "outputId": "cdda724c-823d-4077-dd86-fb28c3c22c5d"
      },
      "execution_count": 53,
      "outputs": [
        {
          "output_type": "stream",
          "name": "stdout",
          "text": [
            "enter number118\n",
            "118\n",
            "236\n",
            "354\n",
            "472\n",
            "590\n",
            "708\n",
            "826\n",
            "944\n",
            "1062\n",
            "1180\n"
          ]
        }
      ]
    },
    {
      "cell_type": "code",
      "source": [
        "#Write a Python Program to Print the Fibonacci sequence.\n",
        "\n",
        "nterm=int(input(\"enter number\"))\n",
        "n1=0\n",
        "n2=1\n",
        "count=0\n",
        "\n",
        "if nterm<=0:\n",
        "  print(\"please enter positive number\")\n",
        "elif nterm==1:\n",
        "  print(\"Fibonacci sequence upto\",nterm,\":\")\n",
        "  print(n1)\n",
        "else:\n",
        "  while count<nterm:\n",
        "    nth=n1+n2\n",
        "    print(n1)\n",
        "    n1=n2\n",
        "    n2=nth\n",
        "    count+=1\n"
      ],
      "metadata": {
        "colab": {
          "base_uri": "https://localhost:8080/"
        },
        "id": "GTa-vyN7GYDt",
        "outputId": "f37ca464-17cb-4025-a2fd-826d9a472788"
      },
      "execution_count": 62,
      "outputs": [
        {
          "output_type": "stream",
          "name": "stdout",
          "text": [
            "enter number4\n",
            "0\n",
            "1\n",
            "1\n",
            "2\n"
          ]
        }
      ]
    },
    {
      "cell_type": "code",
      "source": [
        "def R2(lst):\n",
        "    if len(lst) < 2:\n",
        "        return lst\n",
        "\n",
        "    lst[0], lst[1] = lst[1], lst[0]\n",
        "    return lst\n",
        "\n",
        "# Test the function\n",
        "lst = [1, 2, 3, 4]\n",
        "result = R2(lst)\n",
        "print(result)  # Output: [2, 1, 3, 4]\n"
      ],
      "metadata": {
        "colab": {
          "base_uri": "https://localhost:8080/"
        },
        "id": "qiRAIstIQ9QP",
        "outputId": "58121baf-b7d7-41f6-830b-a5eedfa55c8c"
      },
      "execution_count": 71,
      "outputs": [
        {
          "output_type": "stream",
          "name": "stdout",
          "text": [
            "[2, 1, 3, 4]\n"
          ]
        }
      ]
    },
    {
      "cell_type": "code",
      "source": [
        "numbers=input(\"enter number \")\n",
        "numbers.split()\n",
        "print(numbers)\n",
        "numbers=[int(i) for i in numbers]\n",
        "sum=0\n",
        "for i in range(1, len(numbers)+1):\n",
        "  sum+=i\n",
        "print(sum)"
      ],
      "metadata": {
        "colab": {
          "base_uri": "https://localhost:8080/"
        },
        "id": "beiA-a0Si4Po",
        "outputId": "b06242fc-83a7-44eb-fdc6-8f8fa29e420b"
      },
      "execution_count": 23,
      "outputs": [
        {
          "output_type": "stream",
          "name": "stdout",
          "text": [
            "enter number 1234\n",
            "1234\n",
            "10\n"
          ]
        }
      ]
    },
    {
      "cell_type": "code",
      "source": [
        "numbers_input = input(\"Enter numbers separated by commas: \")\n",
        "numbers = numbers_input.split(',')\n",
        "print(numbers)\n",
        "\n",
        "numbers = [int(num) for num in numbers]\n",
        "total_sum = 0  # Use a different variable name\n",
        "for num in numbers:\n",
        "    total_sum += num\n",
        "\n",
        "print(f\"Sum of the numbers is: {total_sum}\")\n"
      ],
      "metadata": {
        "colab": {
          "base_uri": "https://localhost:8080/"
        },
        "id": "NP7_roEKku1G",
        "outputId": "b1c7eb59-59f2-47f0-f884-531d3e6ef22b"
      },
      "execution_count": 18,
      "outputs": [
        {
          "output_type": "stream",
          "name": "stdout",
          "text": [
            "Enter numbers separated by commas: 1,2,3\n",
            "['1', '2', '3']\n",
            "Sum of the numbers is: 6\n"
          ]
        }
      ]
    },
    {
      "cell_type": "code",
      "source": [
        "def cube_sum(n):\n",
        "  if n<0:\n",
        "    return 0\n",
        "  else:\n",
        "    total=0\n",
        "    for i in range(1,n+1):\n",
        "      cube=i**3\n",
        "      total=total+cube\n",
        "    return total\n",
        "\n",
        "n=int(input(\"enter number\"))\n",
        "result=cube_sum(n)\n",
        "print(result)"
      ],
      "metadata": {
        "colab": {
          "base_uri": "https://localhost:8080/"
        },
        "id": "R7YnNypduhbW",
        "outputId": "e02940dd-e645-4f55-f28e-3fae340417e4"
      },
      "execution_count": 26,
      "outputs": [
        {
          "output_type": "stream",
          "name": "stdout",
          "text": [
            "enter number2\n",
            "9\n"
          ]
        }
      ]
    },
    {
      "cell_type": "code",
      "source": [
        "arr = [1,2,3]\n",
        "sum=0\n",
        "for i in arr:\n",
        "  sum=sum+i\n",
        "print('Sum of the array is ', sum)"
      ],
      "metadata": {
        "colab": {
          "base_uri": "https://localhost:8080/"
        },
        "id": "eYlRzbLby4jE",
        "outputId": "ce0bae0e-0e48-48b9-98ab-bb7c12ba77f9"
      },
      "execution_count": 31,
      "outputs": [
        {
          "output_type": "stream",
          "name": "stdout",
          "text": [
            "Sum of the array is  6\n"
          ]
        }
      ]
    },
    {
      "cell_type": "code",
      "source": [
        "def large_array(arr):\n",
        "  if not arr:\n",
        "    return \"array is empty\"\n",
        "\n",
        "  large=arr[0]\n",
        "\n",
        "  for i in arr:\n",
        "    if large<i:\n",
        "      large=i\n",
        "  return large\n",
        "\n",
        "a=[15,5,15]\n",
        "result=large_array(a)\n",
        "print(result)"
      ],
      "metadata": {
        "colab": {
          "base_uri": "https://localhost:8080/"
        },
        "id": "VP0q6ooY0gno",
        "outputId": "95205430-0b57-462c-d246-bc8642dc49d5"
      },
      "execution_count": 35,
      "outputs": [
        {
          "output_type": "stream",
          "name": "stdout",
          "text": [
            "15\n"
          ]
        }
      ]
    },
    {
      "cell_type": "code",
      "source": [
        "def split_and_add(arr, k):\n",
        " if k <= 0 or k >= len(arr):\n",
        "  return arr\n",
        " # Split the array into two parts\n",
        " first_part = arr[:k]\n",
        " second_part = arr[k:]\n",
        " # Add the first part to the end of the second part\n",
        " result = second_part + first_part\n",
        " return result\n",
        "# Test the function\n",
        "arr = [1, 2, 3, 4, 5]\n",
        "k = 3\n",
        "result = split_and_add(arr, k)\n",
        "print(\"Original Array:\", arr)\n",
        "print(\"Array after splitting and adding:\", result)\n"
      ],
      "metadata": {
        "colab": {
          "base_uri": "https://localhost:8080/"
        },
        "id": "chhQusZG4kM1",
        "outputId": "75fa3fa0-e09f-4530-e24a-04ac9feb2953"
      },
      "execution_count": 37,
      "outputs": [
        {
          "output_type": "stream",
          "name": "stdout",
          "text": [
            "Original Array: [1, 2, 3, 4, 5]\n",
            "Array after splitting and adding: [4, 5, 1, 2, 3]\n"
          ]
        }
      ]
    },
    {
      "cell_type": "code",
      "source": [
        "k=3\n",
        "arr = [1, 2, 3, 4, 5]\n",
        "print(arr[::k])\n"
      ],
      "metadata": {
        "colab": {
          "base_uri": "https://localhost:8080/"
        },
        "id": "rm5SOcV_443s",
        "outputId": "96ef4cdc-edcb-42ca-9d48-bd3dcc3c6db6"
      },
      "execution_count": 39,
      "outputs": [
        {
          "output_type": "stream",
          "name": "stdout",
          "text": [
            "[1, 4]\n"
          ]
        }
      ]
    },
    {
      "cell_type": "code",
      "source": [
        "def addmatrix(a,b):\n",
        "  if len(a)!=len(b) or len(a[0])!=len(b[0]):\n",
        "    return \"matrix should be same dimension\"\n",
        "\n",
        "  result=[]\n",
        "  for i in range(len(a)):\n",
        "    row=[]\n",
        "    for j in range(len(b)):\n",
        "      row.append(a[i][j]+b[i][j])\n",
        "      result.append(row)\n",
        "  return result\n",
        "\n",
        "a=[[1, 2, 3,],\n",
        "   [4, 5, 6,],\n",
        "   [7, 8, 9]]\n",
        "\n",
        "\n",
        "b=[[1, 2, 3,],\n",
        "   [4, 5, 6,],\n",
        "   [7, 8, 9]]\n",
        "\n",
        "result_matrix=addmatrix(a,b)\n",
        "print(result_matrix)"
      ],
      "metadata": {
        "colab": {
          "base_uri": "https://localhost:8080/"
        },
        "id": "EfpNdhp-Nljo",
        "outputId": "7e8dd686-a3b8-4b86-d3b0-3e14da01ba33"
      },
      "execution_count": 50,
      "outputs": [
        {
          "output_type": "stream",
          "name": "stdout",
          "text": [
            "[[1, 4, 9], [1, 4, 9], [1, 4, 9], [16, 25, 36], [16, 25, 36], [16, 25, 36], [49, 64, 81], [49, 64, 81], [49, 64, 81]]\n"
          ]
        }
      ]
    },
    {
      "cell_type": "code",
      "source": [
        "def transpose_matrix(a):\n",
        "  row=len(a)\n",
        "  col=len(a[0])\n",
        "  #result=[[0 for _ in range(row)]for _ in range(col)]\n",
        "  result = []\n",
        "  for _ in range(col):\n",
        "    inner_list = []\n",
        "    for _ in range(row):\n",
        "        inner_list.append(0)\n",
        "    result.append(inner_list)\n",
        "\n",
        "  for i in range(row):\n",
        "    for j in range(col):\n",
        "      result[j][i]=a[i][j]\n",
        "  return result\n",
        "\n",
        "matrix = [\n",
        " [1, 2, 3],\n",
        " [4, 5, 6]\n",
        "]\n",
        "\n",
        "r=transpose_matrix(matrix)\n",
        "print(r)\n"
      ],
      "metadata": {
        "colab": {
          "base_uri": "https://localhost:8080/"
        },
        "id": "s7-y6sbJR5Ml",
        "outputId": "27c3aa03-50e1-4d18-8593-78ae90b9af2e"
      },
      "execution_count": 60,
      "outputs": [
        {
          "output_type": "stream",
          "name": "stdout",
          "text": [
            "[[1, 4], [2, 5], [3, 6]]\n"
          ]
        }
      ]
    },
    {
      "cell_type": "code",
      "source": [
        "my_str=input(\"enetr a string \")\n",
        "word=my_str.split()\n",
        "word1=[word.capitalize() for word in word]\n",
        "\n",
        "for word in word1:\n",
        " print(word)"
      ],
      "metadata": {
        "colab": {
          "base_uri": "https://localhost:8080/"
        },
        "id": "181PgSb-Uo2Q",
        "outputId": "62890408-2b28-49e6-bd89-01dc277d2134"
      },
      "execution_count": 77,
      "outputs": [
        {
          "output_type": "stream",
          "name": "stdout",
          "text": [
            "enetr a string hi hi\n",
            "Hi\n",
            "Hi\n"
          ]
        }
      ]
    },
    {
      "cell_type": "code",
      "source": [
        "punchuation='''!@#$%^&*()_-<>?/\\{}[],.;'\"'''\n",
        "punch=\"\"\n",
        "mystring=input(\"eneter an input\")\n",
        "for char in mystring:\n",
        "  if char not in punchuation:\n",
        "    punch=punch+char\n",
        "\n",
        "print(punch)"
      ],
      "metadata": {
        "colab": {
          "base_uri": "https://localhost:8080/"
        },
        "id": "X-rPfQnioyV_",
        "outputId": "c1f5af01-1bef-4c64-e68e-6ea35044c2d5"
      },
      "execution_count": 78,
      "outputs": [
        {
          "output_type": "stream",
          "name": "stdout",
          "text": [
            "eneter an inputHey! my_name is *\n",
            "Hey myname is \n"
          ]
        }
      ]
    },
    {
      "cell_type": "code",
      "source": [
        "def check(num):\n",
        "  digits=str(num)\n",
        "  powers=[]\n",
        "  for index, digit in enumerate(digits):\n",
        "    power=int(digit)**(index+1)\n",
        "    powers.append(power)\n",
        "\n",
        "    powers_sum = sum(powers)\n",
        "\n",
        "    return powers_sum == num\n",
        "\n",
        "num = int(input(\"Enter a number to check if it's a Disarium number: \"))\n",
        "if(check(num)):\n",
        "  print(\"no is correct\")\n",
        "else:\n",
        "  print(\"no is wrong\")"
      ],
      "metadata": {
        "colab": {
          "base_uri": "https://localhost:8080/",
          "height": 365
        },
        "id": "7XadYl1UuVYe",
        "outputId": "68b70eb2-821e-468c-df14-920aa55db050"
      },
      "execution_count": 85,
      "outputs": [
        {
          "name": "stdout",
          "output_type": "stream",
          "text": [
            "Enter a number to check if it's a Disarium number: 89\n"
          ]
        },
        {
          "output_type": "error",
          "ename": "TypeError",
          "evalue": "'int' object is not callable",
          "traceback": [
            "\u001b[0;31m---------------------------------------------------------------------------\u001b[0m",
            "\u001b[0;31mTypeError\u001b[0m                                 Traceback (most recent call last)",
            "\u001b[0;32m<ipython-input-85-851e2e254cf2>\u001b[0m in \u001b[0;36m<cell line: 13>\u001b[0;34m()\u001b[0m\n\u001b[1;32m     11\u001b[0m \u001b[0;34m\u001b[0m\u001b[0m\n\u001b[1;32m     12\u001b[0m \u001b[0mnum\u001b[0m \u001b[0;34m=\u001b[0m \u001b[0mint\u001b[0m\u001b[0;34m(\u001b[0m\u001b[0minput\u001b[0m\u001b[0;34m(\u001b[0m\u001b[0;34m\"Enter a number to check if it's a Disarium number: \"\u001b[0m\u001b[0;34m)\u001b[0m\u001b[0;34m)\u001b[0m\u001b[0;34m\u001b[0m\u001b[0;34m\u001b[0m\u001b[0m\n\u001b[0;32m---> 13\u001b[0;31m \u001b[0;32mif\u001b[0m\u001b[0;34m(\u001b[0m\u001b[0mcheck\u001b[0m\u001b[0;34m(\u001b[0m\u001b[0mnum\u001b[0m\u001b[0;34m)\u001b[0m\u001b[0;34m)\u001b[0m\u001b[0;34m:\u001b[0m\u001b[0;34m\u001b[0m\u001b[0;34m\u001b[0m\u001b[0m\n\u001b[0m\u001b[1;32m     14\u001b[0m   \u001b[0mprint\u001b[0m\u001b[0;34m(\u001b[0m\u001b[0;34m\"no is correct\"\u001b[0m\u001b[0;34m)\u001b[0m\u001b[0;34m\u001b[0m\u001b[0;34m\u001b[0m\u001b[0m\n\u001b[1;32m     15\u001b[0m \u001b[0;32melse\u001b[0m\u001b[0;34m:\u001b[0m\u001b[0;34m\u001b[0m\u001b[0;34m\u001b[0m\u001b[0m\n",
            "\u001b[0;32m<ipython-input-85-851e2e254cf2>\u001b[0m in \u001b[0;36mcheck\u001b[0;34m(num)\u001b[0m\n\u001b[1;32m      6\u001b[0m     \u001b[0mpowers\u001b[0m\u001b[0;34m.\u001b[0m\u001b[0mappend\u001b[0m\u001b[0;34m(\u001b[0m\u001b[0mpower\u001b[0m\u001b[0;34m)\u001b[0m\u001b[0;34m\u001b[0m\u001b[0;34m\u001b[0m\u001b[0m\n\u001b[1;32m      7\u001b[0m \u001b[0;34m\u001b[0m\u001b[0m\n\u001b[0;32m----> 8\u001b[0;31m     \u001b[0mpowers_sum\u001b[0m \u001b[0;34m=\u001b[0m \u001b[0msum\u001b[0m\u001b[0;34m(\u001b[0m\u001b[0mpowers\u001b[0m\u001b[0;34m)\u001b[0m\u001b[0;34m\u001b[0m\u001b[0;34m\u001b[0m\u001b[0m\n\u001b[0m\u001b[1;32m      9\u001b[0m \u001b[0;34m\u001b[0m\u001b[0m\n\u001b[1;32m     10\u001b[0m     \u001b[0;32mreturn\u001b[0m \u001b[0mpowers_sum\u001b[0m \u001b[0;34m==\u001b[0m \u001b[0mnum\u001b[0m\u001b[0;34m\u001b[0m\u001b[0;34m\u001b[0m\u001b[0m\n",
            "\u001b[0;31mTypeError\u001b[0m: 'int' object is not callable"
          ]
        }
      ]
    },
    {
      "cell_type": "code",
      "source": [
        "def is_disarium(num):\n",
        "    # Convert number to string to iterate over digits\n",
        "    digits = str(num)\n",
        "\n",
        "    # Calculate the sum of powers of digits\n",
        "    powers = []\n",
        "    power_sum=0\n",
        "    for index, digit in enumerate(digits):\n",
        "        power = int(digit) ** (index + 1)\n",
        "        powers.append(power)\n",
        "\n",
        "    powers_sum = sum(powers)\n",
        "\n",
        "    # Check if the sum of powers is equal to the original number\n",
        "    return powers_sum == num\n",
        "\n",
        "# Test the function\n",
        "num = int(input(\"Enter a number to check if it's a Disarium number: \"))\n",
        "if is_disarium(num):\n",
        "    print(f\"{num} is a Disarium number.\")\n",
        "else:\n",
        "    print(f\"{num} is not a Disarium number.\")\n"
      ],
      "metadata": {
        "colab": {
          "base_uri": "https://localhost:8080/",
          "height": 365
        },
        "id": "XGAwl15JwFDR",
        "outputId": "3c554ace-4bf2-4fda-bdba-f1f50f6a52f5"
      },
      "execution_count": 88,
      "outputs": [
        {
          "name": "stdout",
          "output_type": "stream",
          "text": [
            "Enter a number to check if it's a Disarium number: 89\n"
          ]
        },
        {
          "output_type": "error",
          "ename": "TypeError",
          "evalue": "'int' object is not callable",
          "traceback": [
            "\u001b[0;31m---------------------------------------------------------------------------\u001b[0m",
            "\u001b[0;31mTypeError\u001b[0m                                 Traceback (most recent call last)",
            "\u001b[0;32m<ipython-input-88-6f5a41b07e72>\u001b[0m in \u001b[0;36m<cell line: 19>\u001b[0;34m()\u001b[0m\n\u001b[1;32m     17\u001b[0m \u001b[0;31m# Test the function\u001b[0m\u001b[0;34m\u001b[0m\u001b[0;34m\u001b[0m\u001b[0m\n\u001b[1;32m     18\u001b[0m \u001b[0mnum\u001b[0m \u001b[0;34m=\u001b[0m \u001b[0mint\u001b[0m\u001b[0;34m(\u001b[0m\u001b[0minput\u001b[0m\u001b[0;34m(\u001b[0m\u001b[0;34m\"Enter a number to check if it's a Disarium number: \"\u001b[0m\u001b[0;34m)\u001b[0m\u001b[0;34m)\u001b[0m\u001b[0;34m\u001b[0m\u001b[0;34m\u001b[0m\u001b[0m\n\u001b[0;32m---> 19\u001b[0;31m \u001b[0;32mif\u001b[0m \u001b[0mis_disarium\u001b[0m\u001b[0;34m(\u001b[0m\u001b[0mnum\u001b[0m\u001b[0;34m)\u001b[0m\u001b[0;34m:\u001b[0m\u001b[0;34m\u001b[0m\u001b[0;34m\u001b[0m\u001b[0m\n\u001b[0m\u001b[1;32m     20\u001b[0m     \u001b[0mprint\u001b[0m\u001b[0;34m(\u001b[0m\u001b[0;34mf\"{num} is a Disarium number.\"\u001b[0m\u001b[0;34m)\u001b[0m\u001b[0;34m\u001b[0m\u001b[0;34m\u001b[0m\u001b[0m\n\u001b[1;32m     21\u001b[0m \u001b[0;32melse\u001b[0m\u001b[0;34m:\u001b[0m\u001b[0;34m\u001b[0m\u001b[0;34m\u001b[0m\u001b[0m\n",
            "\u001b[0;32m<ipython-input-88-6f5a41b07e72>\u001b[0m in \u001b[0;36mis_disarium\u001b[0;34m(num)\u001b[0m\n\u001b[1;32m     10\u001b[0m         \u001b[0mpowers\u001b[0m\u001b[0;34m.\u001b[0m\u001b[0mappend\u001b[0m\u001b[0;34m(\u001b[0m\u001b[0mpower\u001b[0m\u001b[0;34m)\u001b[0m\u001b[0;34m\u001b[0m\u001b[0;34m\u001b[0m\u001b[0m\n\u001b[1;32m     11\u001b[0m \u001b[0;34m\u001b[0m\u001b[0m\n\u001b[0;32m---> 12\u001b[0;31m     \u001b[0mpowers_sum\u001b[0m \u001b[0;34m=\u001b[0m \u001b[0msum\u001b[0m\u001b[0;34m(\u001b[0m\u001b[0mpowers\u001b[0m\u001b[0;34m)\u001b[0m\u001b[0;34m\u001b[0m\u001b[0;34m\u001b[0m\u001b[0m\n\u001b[0m\u001b[1;32m     13\u001b[0m \u001b[0;34m\u001b[0m\u001b[0m\n\u001b[1;32m     14\u001b[0m     \u001b[0;31m# Check if the sum of powers is equal to the original number\u001b[0m\u001b[0;34m\u001b[0m\u001b[0;34m\u001b[0m\u001b[0m\n",
            "\u001b[0;31mTypeError\u001b[0m: 'int' object is not callable"
          ]
        }
      ]
    },
    {
      "cell_type": "code",
      "source": [
        "def is_happy(num):\n",
        "  seen=set()\n",
        "  while num!=1 and num not in seen:\n",
        "    seen.add(num)\n",
        "    sqr=[]\n",
        "    #num=sum(int(i)**2 for i in str(num))\n",
        "    for i in str(num):\n",
        "      sqrnum=int(i)**2\n",
        "      sqr.append(sqrnum)\n",
        "    num=sum(sqr)\n",
        "  if num==1:\n",
        "    return True\n",
        "  else:\n",
        "    return False\n",
        "\n",
        "happy_num=[]\n",
        "for num in range(1,101):\n",
        "  if is_happy(num):\n",
        "    happy_num.append(num)\n",
        "\n",
        "print(happy_num)"
      ],
      "metadata": {
        "colab": {
          "base_uri": "https://localhost:8080/"
        },
        "id": "25OKKdguTzh6",
        "outputId": "9db14159-08a4-4409-fa04-f551b7fc8f25"
      },
      "execution_count": 6,
      "outputs": [
        {
          "output_type": "stream",
          "name": "stdout",
          "text": [
            "[1, 7, 10, 13, 19, 23, 28, 31, 32, 44, 49, 68, 70, 79, 82, 86, 91, 94, 97, 100]\n"
          ]
        }
      ]
    }
  ]
}