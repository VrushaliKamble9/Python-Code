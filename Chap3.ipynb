{
  "nbformat": 4,
  "nbformat_minor": 0,
  "metadata": {
    "colab": {
      "provenance": [],
      "authorship_tag": "ABX9TyNi27LvB8fRXohkHjrXy2r9",
      "include_colab_link": true
    },
    "kernelspec": {
      "name": "python3",
      "display_name": "Python 3"
    },
    "language_info": {
      "name": "python"
    }
  },
  "cells": [
    {
      "cell_type": "markdown",
      "metadata": {
        "id": "view-in-github",
        "colab_type": "text"
      },
      "source": [
        "<a href=\"https://colab.research.google.com/github/VrushaliKamble9/Python-Code/blob/main/Chap3.ipynb\" target=\"_parent\"><img src=\"https://colab.research.google.com/assets/colab-badge.svg\" alt=\"Open In Colab\"/></a>"
      ]
    },
    {
      "cell_type": "code",
      "execution_count": 4,
      "metadata": {
        "colab": {
          "base_uri": "https://localhost:8080/"
        },
        "id": "fypVIYR4qUU-",
        "outputId": "b1c0f428-1cbc-40f4-e283-fb19807c4a69"
      },
      "outputs": [
        {
          "output_type": "stream",
          "name": "stdout",
          "text": [
            "(1.0, 0.0)\n"
          ]
        }
      ],
      "source": [
        "#Write a function decompose that accepts a single floating point number x (don't worry about checking if it's a float)\n",
        "#and returns a tuple (cos(x), sinx(x)). You can use the functions math.cos and math.sin - you do not have to import the math library.\n",
        "import math\n",
        "def sincos(n):\n",
        "  if type(n)==float:\n",
        "    return (math.cos(n), math.sin(n))\n",
        "\n",
        "result=sincos(0.0)\n",
        "print(result)\n",
        "\n",
        "\n"
      ]
    },
    {
      "cell_type": "code",
      "source": [
        "def always_sunny(t1, t2):\n",
        "\n",
        "    \"\"\"\n",
        "\n",
        "       t1, t2 are non empty\n",
        "\n",
        "    \"\"\"\n",
        "\n",
        "    sun = (\"sunny\",\"sun\")\n",
        "    print(t1[0])\n",
        "\n",
        "    first = t1[0] + t2[0]\n",
        "    print(t2[0])\n",
        "\n",
        "    return (sun[0], first)\n",
        "\n",
        "r=always_sunny(('cloudy'), ('cold',))\n",
        "print(r)"
      ],
      "metadata": {
        "colab": {
          "base_uri": "https://localhost:8080/"
        },
        "id": "fhgMivWYtLzS",
        "outputId": "55f5ac1b-12a3-4aff-fc8e-291568f289f1"
      },
      "execution_count": 18,
      "outputs": [
        {
          "output_type": "stream",
          "name": "stdout",
          "text": [
            "c\n",
            "c\n",
            "('sunny', 'cc')\n"
          ]
        }
      ]
    },
    {
      "cell_type": "code",
      "source": [
        "t1=(\"cloud\",\"old\")\n",
        "t2=(\"cold\",)\n",
        "print(t1[1]+t2[0])"
      ],
      "metadata": {
        "colab": {
          "base_uri": "https://localhost:8080/"
        },
        "id": "ropeaxLeuZhX",
        "outputId": "9526d7b5-2568-4c20-c0b3-263e5901398b"
      },
      "execution_count": 24,
      "outputs": [
        {
          "output_type": "stream",
          "name": "stdout",
          "text": [
            "oldcold\n"
          ]
        }
      ]
    },
    {
      "cell_type": "code",
      "source": [
        "def tripleSwitch(a,b,c):\n",
        "  return (c,a,b)\n",
        "\n",
        "re=tripleSwitch(0,'a',2)\n",
        "print(re)"
      ],
      "metadata": {
        "colab": {
          "base_uri": "https://localhost:8080/"
        },
        "id": "w6DXiZFmu54m",
        "outputId": "70712fd9-8f5b-4f2c-e7ad-c68b47fb91c6"
      },
      "execution_count": 13,
      "outputs": [
        {
          "output_type": "stream",
          "name": "stdout",
          "text": [
            "(2, 0, 'a')\n"
          ]
        }
      ]
    },
    {
      "cell_type": "code",
      "source": [
        "L = [\"life\", \"answer\", 42, 0]\n",
        "\n",
        "for thing in L:\n",
        "\n",
        "    if thing == 0:\n",
        "\n",
        "        L[thing] = \"universe\"\n",
        "\n",
        "    elif thing == 42:\n",
        "\n",
        "        L[1] = \"everything\"\n",
        "    else:\n",
        "      print(\"none\")\n",
        "\n",
        "print(L)"
      ],
      "metadata": {
        "colab": {
          "base_uri": "https://localhost:8080/"
        },
        "id": "24uUVZYqyNHo",
        "outputId": "2d29a497-b207-4f5c-f2c7-5e2f1ed68a3c"
      },
      "execution_count": 25,
      "outputs": [
        {
          "output_type": "stream",
          "name": "stdout",
          "text": [
            "none\n",
            "none\n",
            "['universe', 'everything', 42, 0]\n"
          ]
        }
      ]
    },
    {
      "cell_type": "code",
      "source": [
        "total=0\n",
        "s=[1,0,9,6]\n",
        "#for i in range (len(s)):\n",
        "for i in s:\n",
        "  total=total+i\n",
        "print(total)\n",
        "s.append(3)\n",
        "print(s)\n",
        "s.pop(2)\n",
        "print(s)\n",
        "s.append(10)\n",
        "s.append(3)\n",
        "s.append('a')\n",
        "\n",
        "print(s)\n",
        "s.remove('a')\n",
        "print(s)\n"
      ],
      "metadata": {
        "colab": {
          "base_uri": "https://localhost:8080/"
        },
        "id": "o-WFVQ8_0mwT",
        "outputId": "cd5b82df-fd41-485d-d8be-ef8921e5451e"
      },
      "execution_count": 39,
      "outputs": [
        {
          "output_type": "stream",
          "name": "stdout",
          "text": [
            "16\n",
            "[1, 0, 9, 6, 3]\n",
            "[1, 0, 6, 3]\n",
            "[1, 0, 6, 3, 10, 3, 'a']\n",
            "[1, 0, 6, 3, 10, 3]\n"
          ]
        }
      ]
    },
    {
      "cell_type": "code",
      "source": [
        "L1 = [\"bacon\", \"eggs\"]\n",
        "L2 = [\"toast\", \"jam\"]\n",
        "brunch = L1\n",
        "L1.append(\"juice\")\n",
        "brunch.extend(L2)\n",
        "print(L1)\n",
        "print(brunch)\n",
        "print(L2)"
      ],
      "metadata": {
        "colab": {
          "base_uri": "https://localhost:8080/"
        },
        "id": "_c9e6ouVAE0K",
        "outputId": "66c3ddd5-c464-4478-e52d-61d643aa068c"
      },
      "execution_count": 41,
      "outputs": [
        {
          "output_type": "stream",
          "name": "stdout",
          "text": [
            "['bacon', 'eggs', 'juice', 'toast', 'jam']\n",
            "['bacon', 'eggs', 'juice', 'toast', 'jam']\n",
            "['toast', 'jam']\n"
          ]
        }
      ]
    },
    {
      "cell_type": "code",
      "source": [
        "def builder(L1,L2,s):\n",
        " if type(s)==str:\n",
        "  L1.append(s)\n",
        "  L1.extend([L2])\n",
        " return L1\n",
        "\n",
        "L1 = [\"bacon\", \"eggs\"]\n",
        "L2 =  [\"toast\", \"jam\"]\n",
        "s = \"juice\"\n",
        "\n",
        "print(builder(L1, L2, s))\n",
        ""
      ],
      "metadata": {
        "colab": {
          "base_uri": "https://localhost:8080/"
        },
        "id": "NWDSipCUDm-g",
        "outputId": "5ea97e37-0b65-45a5-f490-57ab33c6f620"
      },
      "execution_count": 52,
      "outputs": [
        {
          "output_type": "stream",
          "name": "stdout",
          "text": [
            "['bacon', 'eggs', 'juice', ['toast', 'jam']]\n"
          ]
        }
      ]
    },
    {
      "cell_type": "code",
      "source": [
        "def builder2(L1,L2,s):\n",
        "  #for i in L1[:]:\n",
        "    brunch = L1\n",
        "    brunch.append(s)\n",
        "    result= brunch.extend(L2)\n",
        "    return result\n",
        "\n",
        "L1 = [\"bacon\", \"eggs\"]\n",
        "L2 =  [\"toast\", \"jam\"]\n",
        "s = \"juice\"\n",
        "\n",
        "result = builder2(L1, L2, s)\n",
        "print(result)  # Output: ['bacon', 'eggs', 'juice', 'toast', 'jam']\n"
      ],
      "metadata": {
        "colab": {
          "base_uri": "https://localhost:8080/"
        },
        "id": "_NOTZP8AGF_h",
        "outputId": "ae1d99af-6619-4742-facf-80095a0dccba"
      },
      "execution_count": 72,
      "outputs": [
        {
          "output_type": "stream",
          "name": "stdout",
          "text": [
            "None\n"
          ]
        }
      ]
    },
    {
      "cell_type": "code",
      "source": [
        "def builder2(L1, L2, s):\n",
        "    # Create a new list by concatenating L1, s, and L2\n",
        "    result = L1 + [s] + L2\n",
        "\n",
        "    # Return the new list\n",
        "    return result\n",
        "\n",
        "# Test the function\n",
        "L1 = [\"bacon\", \"eggs\"]\n",
        "L2 = [\"toast\", \"jam\"]\n",
        "s = \"juice\"\n",
        "\n",
        "result = builder2(L1, L2, s)\n",
        "print(result)  # Output: ['bacon', 'eggs', 'juice', 'toast', 'jam']\n",
        "print(L1)  # Output: ['bacon', 'eggs']\n",
        "print(L2)  # Output: ['toast', 'jam']\n"
      ],
      "metadata": {
        "colab": {
          "base_uri": "https://localhost:8080/"
        },
        "id": "UP0q9wz8JW6T",
        "outputId": "ddad59f9-b6c4-4359-b1af-f64eabe963fd"
      },
      "execution_count": 70,
      "outputs": [
        {
          "output_type": "stream",
          "name": "stdout",
          "text": [
            "['bacon', 'eggs', 'juice', 'toast', 'jam']\n",
            "['bacon', 'eggs']\n",
            "['toast', 'jam']\n"
          ]
        }
      ]
    },
    {
      "cell_type": "code",
      "source": [
        "#With a given integral number n, write a program to generate a dictionary that contains (i, i*i)\n",
        "n=int(input(\"enter number\"))\n",
        "d={}\n",
        "for i in range(1,n+1):\n",
        "  d[i]=[i,i*i]\n",
        "\n",
        "print(d)\n",
        "\n",
        "def findlyrics(ly):\n",
        "  mydict={}\n",
        "  for w in ly:\n",
        "    if w in mydict:\n",
        "      mydict[w]+=1\n",
        "    else:\n",
        "      mydict[w]=1\n",
        "  return mydict\n",
        "\n",
        "print(findlyrics(\"raaj\"))\n"
      ],
      "metadata": {
        "colab": {
          "base_uri": "https://localhost:8080/"
        },
        "id": "zuuLMXml3_if",
        "outputId": "977c50ff-2990-4e27-dc8e-ffe444cc4982"
      },
      "execution_count": 11,
      "outputs": [
        {
          "output_type": "stream",
          "name": "stdout",
          "text": [
            "enter number2\n",
            "{1: [1, 1], 2: [2, 4]}\n",
            "{'r': 1, 'a': 2, 'j': 1}\n"
          ]
        }
      ]
    },
    {
      "cell_type": "code",
      "source": [
        "def add(k,v,d):\n",
        "\n",
        "  if k in d:\n",
        "    print(\"This key is already in the dictionary\")\n",
        "  else:\n",
        "    d[k]=v\n",
        "myD = {'flamingo': 'pink', 'polar bear': 'white'}\n",
        "\n",
        "add('flamingo', 'blue', myD)\n",
        "\n",
        "add('elephant', 'grey', myD)\n",
        "print(myD)\n"
      ],
      "metadata": {
        "colab": {
          "base_uri": "https://localhost:8080/"
        },
        "id": "HaD2OpflEg31",
        "outputId": "81c44c85-9128-4e9e-9949-b07ba2bb6615"
      },
      "execution_count": 16,
      "outputs": [
        {
          "output_type": "stream",
          "name": "stdout",
          "text": [
            "This key is already in the dictionary\n",
            "{'flamingo': 'pink', 'polar bear': 'white', 'elephant': 'grey'}\n"
          ]
        }
      ]
    },
    {
      "cell_type": "code",
      "source": [
        "def test(k,d):\n",
        "  if k in d:\n",
        "    return True\n",
        "  else:\n",
        "    return False\n",
        "\n",
        "myD = {'flamingo':'pink','polar bear':'white'}\n",
        "print(test('flamingo',myD))\n",
        "print(test('elephant',myD))"
      ],
      "metadata": {
        "colab": {
          "base_uri": "https://localhost:8080/"
        },
        "id": "2ygtygskGTD4",
        "outputId": "7b976762-4404-4a53-e76f-ef436c8f3e44"
      },
      "execution_count": 20,
      "outputs": [
        {
          "output_type": "stream",
          "name": "stdout",
          "text": [
            "True\n",
            "False\n"
          ]
        }
      ]
    },
    {
      "cell_type": "code",
      "source": [
        "def delete(k,d):\n",
        "  if k in d:\n",
        "    print(f\"deleting {k} with value to {d[k]}\")\n",
        "    del(d[k])\n",
        "  else:\n",
        "    print(\"This key is not in the dictionary\")\n",
        "\n",
        "d = {'i':52, 'j':50, 'k':61, 'l':21 }\n",
        "delete('j',d)\n",
        "print(len(d))\n",
        "print('a' in d)"
      ],
      "metadata": {
        "colab": {
          "base_uri": "https://localhost:8080/"
        },
        "id": "sVZ9qgzZHGd_",
        "outputId": "6f7545f0-b1f4-4b12-ec5e-90203b52bac9"
      },
      "execution_count": 26,
      "outputs": [
        {
          "output_type": "stream",
          "name": "stdout",
          "text": [
            "deleting j with value to 50\n",
            "3\n",
            "False\n"
          ]
        }
      ]
    }
  ]
}