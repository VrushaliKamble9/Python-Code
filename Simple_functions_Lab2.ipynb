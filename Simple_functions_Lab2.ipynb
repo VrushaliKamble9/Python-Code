{
  "nbformat": 4,
  "nbformat_minor": 0,
  "metadata": {
    "colab": {
      "provenance": [],
      "authorship_tag": "ABX9TyOfKKtQl64s2Un6kAImRNlf",
      "include_colab_link": true
    },
    "kernelspec": {
      "name": "python3",
      "display_name": "Python 3"
    },
    "language_info": {
      "name": "python"
    }
  },
  "cells": [
    {
      "cell_type": "markdown",
      "metadata": {
        "id": "view-in-github",
        "colab_type": "text"
      },
      "source": [
        "<a href=\"https://colab.research.google.com/github/VrushaliKamble9/Python-Code/blob/main/Simple_functions_Lab2.ipynb\" target=\"_parent\"><img src=\"https://colab.research.google.com/assets/colab-badge.svg\" alt=\"Open In Colab\"/></a>"
      ]
    },
    {
      "cell_type": "code",
      "execution_count": 1,
      "metadata": {
        "colab": {
          "base_uri": "https://localhost:8080/"
        },
        "id": "ivDVWFslUu4i",
        "outputId": "47fccfc6-5e6c-4f97-b4d6-f3c771922f77"
      },
      "outputs": [
        {
          "output_type": "execute_result",
          "data": {
            "text/plain": [
              "20"
            ]
          },
          "metadata": {},
          "execution_count": 1
        }
      ],
      "source": [
        "#1\n",
        "def max3(a,b,c):\n",
        "  if a>b and a>c:\n",
        "    return a\n",
        "  if b>a and b>c:\n",
        "    return b\n",
        "  else:\n",
        "    return c\n",
        "max3(10,20,8)"
      ]
    },
    {
      "cell_type": "code",
      "source": [
        "#2\n",
        "def sort3(a,b,c):\n",
        "  if a > b:\n",
        "    a,b = b,a\n",
        "  if b > c:\n",
        "    b,c = c,b\n",
        "  if a > b:\n",
        "    a,b = b,a\n",
        "  print(a,b,c)\n",
        "\n",
        "sort3(9,14,8)\n"
      ],
      "metadata": {
        "colab": {
          "base_uri": "https://localhost:8080/"
        },
        "id": "vN7SSfLTVo1V",
        "outputId": "a36d04a1-a5b1-4de2-f021-135e6e4cc95a"
      },
      "execution_count": 12,
      "outputs": [
        {
          "output_type": "stream",
          "name": "stdout",
          "text": [
            "8 9 14\n"
          ]
        }
      ]
    },
    {
      "cell_type": "code",
      "source": [
        "#3\n",
        "def min_max(s):\n",
        "  min=max=s[0]\n",
        "  for i in s[1:]:\n",
        "    if i < min:\n",
        "     min=i\n",
        "    if i > max:\n",
        "     max=i\n",
        "  return min+max\n",
        "result = min_max(\"32815\")\n",
        "print(result)"
      ],
      "metadata": {
        "id": "cTkzx9BAaE6i",
        "outputId": "40f81475-19ee-4db0-e792-bba7e6430581",
        "colab": {
          "base_uri": "https://localhost:8080/"
        }
      },
      "execution_count": 15,
      "outputs": [
        {
          "output_type": "stream",
          "name": "stdout",
          "text": [
            "18\n"
          ]
        }
      ]
    },
    {
      "cell_type": "code",
      "source": [
        "#4\n",
        "def reverse(s):\n",
        "  reverse =\"\"\n",
        "  for char in s[::-1]:\n",
        "    reverse=reverse+ char\n",
        "  return reverse\n",
        "result=reverse(\"left to right\")\n",
        "print(result)"
      ],
      "metadata": {
        "id": "jhUokUPJc-Py",
        "outputId": "4e6a5f22-bbd5-41be-bc77-22cdeecbc108",
        "colab": {
          "base_uri": "https://localhost:8080/"
        }
      },
      "execution_count": 33,
      "outputs": [
        {
          "output_type": "stream",
          "name": "stdout",
          "text": [
            "thgir ot tfel\n"
          ]
        }
      ]
    },
    {
      "cell_type": "code",
      "source": [
        "#5\n",
        "def partialpalindrom(s,n):\n",
        "  for i in range(len(s)- n+1):\n",
        "    substring=s[i:i+n]\n",
        "    # Check if the substring is equal to its reversal\n",
        "    if substring == reverse(substring):\n",
        "      return True\n",
        "    else:\n",
        "    # If no palindrome substring of length n is found, return False\n",
        "      return False\n",
        "\n",
        "# Test the function\n",
        "\n",
        "result = partialpalindrom(\"AGTTGCC\",3)\n",
        "print(result)"
      ],
      "metadata": {
        "id": "I76nviTCgS86",
        "outputId": "c45ef06f-72f4-4575-ea91-9f25c6d8d7e7",
        "colab": {
          "base_uri": "https://localhost:8080/"
        }
      },
      "execution_count": 75,
      "outputs": [
        {
          "output_type": "stream",
          "name": "stdout",
          "text": [
            "False\n"
          ]
        }
      ]
    },
    {
      "cell_type": "code",
      "source": [
        "def extract_strings(*s):\n",
        "  c = \"\"\n",
        "  for i in s:\n",
        "    if type(i) is str:\n",
        "      c=c+i\n",
        "  return c\n",
        "result = extract_strings('foo',5,'aaa')\n",
        "print(result)"
      ],
      "metadata": {
        "id": "xLxKgeRflMqU",
        "outputId": "29100df2-e752-41fb-b264-3c3aa6c36f44",
        "colab": {
          "base_uri": "https://localhost:8080/"
        }
      },
      "execution_count": 66,
      "outputs": [
        {
          "output_type": "stream",
          "name": "stdout",
          "text": [
            "fooaaa\n"
          ]
        }
      ]
    },
    {
      "cell_type": "code",
      "source": [
        "def area(shape, n):\n",
        "#    replace pass with a line to return the area\n",
        "#    of a generic shape with a parameter of n\n",
        "     return shape(n)\n",
        "def circle(radius):\n",
        "    \"\"\"\n",
        "    Input: radius, a positive float\n",
        "    Returns the area of a circle with the given radius\n",
        "    \"\"\"\n",
        "    return 3.14*radius**2\n",
        "\n",
        "def square(length):\n",
        "    \"\"\"\n",
        "    Input: length, a positive float\n",
        "    Returns the area of a square with sides of the given length\n",
        "    \"\"\"\n",
        "    return length*length\n",
        "\n",
        "print(area(circle,10))  # example function call\n",
        "print(area(square,10))  # example function call"
      ],
      "metadata": {
        "id": "hYplDdIO4q5K",
        "outputId": "e94fecc7-ed1f-49d5-c485-89ef87c5700d",
        "colab": {
          "base_uri": "https://localhost:8080/"
        }
      },
      "execution_count": 78,
      "outputs": [
        {
          "output_type": "stream",
          "name": "stdout",
          "text": [
            "314.0\n",
            "100\n"
          ]
        }
      ]
    },
    {
      "cell_type": "code",
      "source": [
        "def person(age):\n",
        "  print(\"I am a person\")\n",
        "  return age\n",
        "def student(degree):\n",
        "   print(\"I like learning\")\n",
        "   return degree\n",
        "def holiday(place):\n",
        "  print(\"But I need to take holidays\")\n",
        "  return place\n",
        "\n",
        "print(person(12),\"|\",student(\"Math\"),\"|\",holiday(\"beach\"))\n",
        "print(person(29),\"|\",student(\"Data Science\"),\"|\",holiday(\"Japan\"))\n",
        "print(person(23),\"|\",student(\"Law\"),\"|\",holiday(\"Barbados\"))"
      ],
      "metadata": {
        "id": "x18JXYDj6Whb",
        "outputId": "38b7ba6e-2989-4cbf-b1dd-c968e7bf6fe1",
        "colab": {
          "base_uri": "https://localhost:8080/"
        }
      },
      "execution_count": 81,
      "outputs": [
        {
          "output_type": "stream",
          "name": "stdout",
          "text": [
            "I am a person\n",
            "I like learning\n",
            "But I need to take holidays\n",
            "12 | Math | beach\n",
            "I am a person\n",
            "I like learning\n",
            "But I need to take holidays\n",
            "29 | Data Science | Japan\n",
            "I am a person\n",
            "I like learning\n",
            "But I need to take holidays\n",
            "23 | Law | Barbados\n"
          ]
        }
      ]
    },
    {
      "cell_type": "code",
      "source": [
        "def sumDigit(num):\n",
        " total=0\n",
        " for x in num:\n",
        "    total +=x\n",
        " return total\n",
        "\n",
        "print(sumDigit((20,30,5,1)))"
      ],
      "metadata": {
        "id": "4l2eCmqYNrgL",
        "outputId": "9b1ee61e-cc43-4ed7-e0d9-4c29aeb67a37",
        "colab": {
          "base_uri": "https://localhost:8080/"
        }
      },
      "execution_count": 5,
      "outputs": [
        {
          "output_type": "stream",
          "name": "stdout",
          "text": [
            "56\n"
          ]
        }
      ]
    },
    {
      "cell_type": "code",
      "source": [
        "def sumDigit(num):\n",
        " total=1\n",
        " for x in num:\n",
        "    total *=x\n",
        " return total\n",
        "\n",
        "print(sumDigit((8, 2, 3, -1, 7)))"
      ],
      "metadata": {
        "id": "NP2IPPGZOskD",
        "outputId": "d4df9462-5fd5-4f8f-e2a9-9fd1f78ea825",
        "colab": {
          "base_uri": "https://localhost:8080/"
        }
      },
      "execution_count": 8,
      "outputs": [
        {
          "output_type": "stream",
          "name": "stdout",
          "text": [
            "-336\n"
          ]
        }
      ]
    },
    {
      "cell_type": "code",
      "source": [
        "def reverse(num):\n",
        " return num[::-1]\n",
        "\n",
        "str1 = 'reverse'\n",
        "print(reverse(str1))"
      ],
      "metadata": {
        "id": "5YeC7TjHPiVP",
        "outputId": "182f47ad-c4db-4d17-87c8-3e9dbf543122",
        "colab": {
          "base_uri": "https://localhost:8080/"
        }
      },
      "execution_count": 11,
      "outputs": [
        {
          "output_type": "stream",
          "name": "stdout",
          "text": [
            "esrever\n"
          ]
        }
      ]
    },
    {
      "cell_type": "code",
      "source": [
        "#factorial\n",
        "def fact(n):\n",
        "  if n==0:\n",
        "    return 1\n",
        "  else:\n",
        "\n",
        "    return n*fact(n-1)\n",
        "\n",
        "print(fact(4))"
      ],
      "metadata": {
        "id": "E6GgQdXgSuPk",
        "outputId": "cda79b24-472e-469a-ff88-9176a71996e7",
        "colab": {
          "base_uri": "https://localhost:8080/"
        }
      },
      "execution_count": 14,
      "outputs": [
        {
          "output_type": "stream",
          "name": "stdout",
          "text": [
            "24\n"
          ]
        }
      ]
    },
    {
      "cell_type": "code",
      "source": [
        "#6. Write a Python function to check whether a number falls within a given range.\n",
        "def testrange(n):\n",
        "  if n in range(3,9):\n",
        "    return True\n",
        "  else:\n",
        "    return False\n",
        "\n",
        "print(testrange(15))"
      ],
      "metadata": {
        "id": "XRauOjSYTTyf",
        "outputId": "b38c495b-11d8-4b3f-8889-f21469850a40",
        "colab": {
          "base_uri": "https://localhost:8080/"
        }
      },
      "execution_count": 16,
      "outputs": [
        {
          "output_type": "stream",
          "name": "stdout",
          "text": [
            "False\n"
          ]
        }
      ]
    },
    {
      "cell_type": "code",
      "source": [
        "def countLetter(s):\n",
        "  upper=0\n",
        "  lower=0\n",
        "  for i in s:\n",
        "    if i.isupper():\n",
        "      upper+=1\n",
        "      #return upper\n",
        "    elif i.islower():\n",
        "      lower+=1\n",
        "      #return lower\n",
        "    else:\n",
        "      pass\n",
        "  print(\"No. of Upper case characters :\", upper)\n",
        "  print(\"No. of Lower case Characters :\", lower)\n",
        "\n",
        "countLetter(\"The quick Brow Fox\")"
      ],
      "metadata": {
        "id": "iyqxBTggWQZz",
        "outputId": "e660a440-0f4e-4ecc-de47-45088b9eb4d5",
        "colab": {
          "base_uri": "https://localhost:8080/"
        }
      },
      "execution_count": 30,
      "outputs": [
        {
          "output_type": "stream",
          "name": "stdout",
          "text": [
            "No. of Upper case characters : 3\n",
            "No. of Lower case Characters : 12\n"
          ]
        }
      ]
    },
    {
      "cell_type": "code",
      "source": [],
      "metadata": {
        "id": "LSe3ayhIae2z"
      },
      "execution_count": null,
      "outputs": []
    }
  ]
}