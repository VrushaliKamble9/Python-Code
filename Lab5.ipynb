{
  "nbformat": 4,
  "nbformat_minor": 0,
  "metadata": {
    "colab": {
      "provenance": [],
      "authorship_tag": "ABX9TyOPgvx1DPJuD9OipgR0PMuP",
      "include_colab_link": true
    },
    "kernelspec": {
      "name": "python3",
      "display_name": "Python 3"
    },
    "language_info": {
      "name": "python"
    }
  },
  "cells": [
    {
      "cell_type": "markdown",
      "metadata": {
        "id": "view-in-github",
        "colab_type": "text"
      },
      "source": [
        "<a href=\"https://colab.research.google.com/github/VrushaliKamble9/Python-Code/blob/main/Lab5.ipynb\" target=\"_parent\"><img src=\"https://colab.research.google.com/assets/colab-badge.svg\" alt=\"Open In Colab\"/></a>"
      ]
    },
    {
      "cell_type": "code",
      "execution_count": 27,
      "metadata": {
        "colab": {
          "base_uri": "https://localhost:8080/"
        },
        "id": "6vF8dgTmPacz",
        "outputId": "b7a1420b-1228-4f81-8312-06b0dce156f0"
      },
      "outputs": [
        {
          "output_type": "stream",
          "name": "stdout",
          "text": [
            "6 5\n"
          ]
        }
      ],
      "source": [
        "\n",
        "#The Coordinate class implements an abstraction of a two-dimensional coordinate. The template code includes a getter and a setter methods – getX() and setX() – to respectively get and\n",
        "#set the value of the x attribute.\n",
        "#Add a getter and a setter methods (getY() and setY()) for the y attribute\n",
        "class Coordinate:\n",
        "  def __init__(self,xcor,ycor):\n",
        "     self.__xcor=xcor\n",
        "     self.__ycor=ycor\n",
        "\n",
        "  def getX(self):\n",
        "     return self.__xcor\n",
        "  def setX(self,x):\n",
        "    self.__xcor=x\n",
        "\n",
        "\n",
        "  def getY(self):\n",
        "     return self.__ycor\n",
        "  def setY(self,y):\n",
        "    self.__ycor=y\n",
        "\n",
        "c=Coordinate(6,5)\n",
        "x=c.getX()\n",
        "y=c.getY()\n",
        "print(x,y)"
      ]
    },
    {
      "cell_type": "code",
      "source": [
        "if __name__ == '__main__':\n",
        "    coord1 = Coordinate(1, 2)\n",
        "    print(\"GetX:\", coord1.getX())\n",
        "    print(\"GetY:\", coord1.getY())\n",
        "    coord1.setX(3)\n",
        "    coord1.setY(4)\n",
        "    print(\"Updated Coordinate:\", coord1.getX(),coord1.getY())\n"
      ],
      "metadata": {
        "colab": {
          "base_uri": "https://localhost:8080/"
        },
        "id": "ehxMKY8oYaaU",
        "outputId": "3cd23cf9-6026-491b-d905-7c8f50cbafac"
      },
      "execution_count": 16,
      "outputs": [
        {
          "output_type": "stream",
          "name": "stdout",
          "text": [
            "GetX: 1\n",
            "GetY: 2\n",
            "Updated Coordinate: 3 4\n"
          ]
        }
      ]
    },
    {
      "cell_type": "code",
      "source": [
        "import copy\n",
        "class Circle:\n",
        "  def __init__(self, centre:Coordinate, radius:float):\n",
        "    self.centre=copy.copy(centre)\n",
        "    self.radius=radius\n",
        "\n",
        "  def __str__(self):\n",
        "    return f\"centre: {self.centre}, Radius: {self.radius}\"\n",
        "\n",
        "if __name__=='__main__':\n",
        "    coord = Coordinate(1, 2)\n",
        "    Circle1 = Circle(coord, 5.0)\n",
        "    print(Circle1)"
      ],
      "metadata": {
        "colab": {
          "base_uri": "https://localhost:8080/"
        },
        "id": "LKk9iyGZbk79",
        "outputId": "d2956ed5-190e-4641-a299-6828db5c1bd0"
      },
      "execution_count": 35,
      "outputs": [
        {
          "output_type": "stream",
          "name": "stdout",
          "text": [
            "centre: (1, 2), Radius: 5.0\n"
          ]
        }
      ]
    },
    {
      "cell_type": "code",
      "source": [
        "import copy\n",
        "import math\n",
        "\n",
        "class Coordinate:\n",
        "    def __init__(self, x=0, y=0):\n",
        "        self.__x = x\n",
        "        self.__y = y\n",
        "\n",
        "    def getX(self):\n",
        "        return self.__x\n",
        "\n",
        "    def setX(self, x):\n",
        "        self.__x = x\n",
        "\n",
        "    def getY(self):\n",
        "        return self.__y\n",
        "\n",
        "    def setY(self, y):\n",
        "        self.__y = y\n",
        "\n",
        "    def __str__(self):\n",
        "        return f\"({self.__x}, {self.__y})\"\n",
        "\n",
        "\n",
        "class Circle:\n",
        "    def __init__(self, center: Coordinate, radius: float):\n",
        "        # Copy the Coordinate object\n",
        "        self.center = copy.copy(center)\n",
        "        self.radius = radius\n",
        "\n",
        "    def __str__(self):\n",
        "        #return f\"Center: {self.center}, Radius: {self.radius}\"\n",
        "        return f\"Circle({self.center},{self.radius})\"\n",
        "\n",
        "    def getCentre(self):\n",
        "      return self.center\n",
        "\n",
        "    def getRadius(self):\n",
        "      return self.radius\n",
        "\n",
        "    def setCentre(self,c):\n",
        "      self.center=c\n",
        "\n",
        "    def setRadius(self,r):\n",
        "      self.radius=r\n",
        "\n",
        "    def getArea(self):\n",
        "      return math.pi*(self.radius**2)\n",
        "\n",
        "\n",
        "if __name__ == '__main__':\n",
        "    # Create a Coordinate object\n",
        "    coord = Coordinate(1, 2)\n",
        "\n",
        "    # Create a Circle object\n",
        "    circle = Circle(coord, 5.0)\n",
        "\n",
        "    # Print Circle details\n",
        "    print(circle.getCentre())\n",
        "    print(circle.getArea())\n",
        "\n"
      ],
      "metadata": {
        "colab": {
          "base_uri": "https://localhost:8080/"
        },
        "id": "lsi6Dvs_xmso",
        "outputId": "57368569-d39d-4b1f-97d5-cb5d253cbd07"
      },
      "execution_count": 13,
      "outputs": [
        {
          "output_type": "stream",
          "name": "stdout",
          "text": [
            "(1, 2)\n",
            "78.53981633974483\n"
          ]
        }
      ]
    },
    {
      "cell_type": "code",
      "source": [
        "def missingnum(num):\n",
        "  n=len(num)\n",
        "  expcted=n*(n+1)//2\n",
        "\n",
        "  actual=sum(num)\n",
        "  missing=expcted-actual\n",
        "  return missing\n",
        "\n",
        "nums = [0,1,2,3,5,6,7]\n",
        "missing = missingnum(nums)\n",
        "print(missing)"
      ],
      "metadata": {
        "colab": {
          "base_uri": "https://localhost:8080/"
        },
        "id": "-c616saItJtw",
        "outputId": "f313d039-50e3-4f46-85ad-ae1272a565e7"
      },
      "execution_count": 7,
      "outputs": [
        {
          "output_type": "stream",
          "name": "stdout",
          "text": [
            "4\n"
          ]
        }
      ]
    }
  ]
}