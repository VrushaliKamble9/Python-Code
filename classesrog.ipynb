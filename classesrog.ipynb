{
  "nbformat": 4,
  "nbformat_minor": 0,
  "metadata": {
    "colab": {
      "provenance": [],
      "authorship_tag": "ABX9TyMNq9rXaPwGBeOuQr44H6OR",
      "include_colab_link": true
    },
    "kernelspec": {
      "name": "python3",
      "display_name": "Python 3"
    },
    "language_info": {
      "name": "python"
    }
  },
  "cells": [
    {
      "cell_type": "markdown",
      "metadata": {
        "id": "view-in-github",
        "colab_type": "text"
      },
      "source": [
        "<a href=\"https://colab.research.google.com/github/VrushaliKamble9/Python-Code/blob/main/classesrog.ipynb\" target=\"_parent\"><img src=\"https://colab.research.google.com/assets/colab-badge.svg\" alt=\"Open In Colab\"/></a>"
      ]
    },
    {
      "cell_type": "code",
      "execution_count": 29,
      "metadata": {
        "id": "FOOUCaC825zA"
      },
      "outputs": [],
      "source": [
        "class Myname:\n",
        "  def __init__(self,x,y):\n",
        "    self.firstname=x\n",
        "    self.lastname=y\n",
        "\n",
        "  def fname(self):\n",
        "    return 'my firt name is {}'.format(self.firstname)"
      ]
    },
    {
      "cell_type": "code",
      "source": [
        "n1=Myname('vrushali','kamble')\n",
        "n1.fname\n",
        "\n",
        "#print(f)"
      ],
      "metadata": {
        "colab": {
          "base_uri": "https://localhost:8080/",
          "height": 104
        },
        "id": "t7pSuxEbH1jH",
        "outputId": "6804c255-be2c-45d9-e0f0-31f1bea32a8e"
      },
      "execution_count": 30,
      "outputs": [
        {
          "output_type": "execute_result",
          "data": {
            "text/plain": [
              "<bound method Myname.fname of <__main__.Myname object at 0x7fd31d3bba00>>"
            ],
            "text/html": [
              "<div style=\"max-width:800px; border: 1px solid var(--colab-border-color);\"><style>\n",
              "      pre.function-repr-contents {\n",
              "        overflow-x: auto;\n",
              "        padding: 8px 12px;\n",
              "        max-height: 500px;\n",
              "      }\n",
              "\n",
              "      pre.function-repr-contents.function-repr-contents-collapsed {\n",
              "        cursor: pointer;\n",
              "        max-height: 100px;\n",
              "      }\n",
              "    </style>\n",
              "    <pre style=\"white-space: initial; background:\n",
              "         var(--colab-secondary-surface-color); padding: 8px 12px;\n",
              "         border-bottom: 1px solid var(--colab-border-color);\"><b>Myname.fname</b><br/>def fname()</pre><pre class=\"function-repr-contents function-repr-contents-collapsed\" style=\"\"><a class=\"filepath\" style=\"display:none\" href=\"#\">/content/&lt;ipython-input-29-12fe570a4a6f&gt;</a>&lt;no docstring&gt;</pre></div>"
            ]
          },
          "metadata": {},
          "execution_count": 30
        }
      ]
    },
    {
      "cell_type": "code",
      "source": [
        "class coordinate:\n",
        "  def __init__(self,x,y):\n",
        "    self.x=x\n",
        "    self.y=y\n",
        "  def distance(self,other):\n",
        "    x_sqr = (self.x-other.x)**2\n",
        "    y_sqr =(self.y-other.y)**2\n",
        "    return (x_sqr+y_sqr)**0.5\n",
        "\n",
        "c=coordinate(3,4)\n",
        "origin=coordinate(1,2)\n",
        "dist=coordinate.distance(c,origin)\n",
        "print(dist)"
      ],
      "metadata": {
        "colab": {
          "base_uri": "https://localhost:8080/"
        },
        "id": "O3IYAwcRKn_Z",
        "outputId": "9566bc5b-b552-491e-dc1c-2a0ed161860a"
      },
      "execution_count": 53,
      "outputs": [
        {
          "output_type": "stream",
          "name": "stdout",
          "text": [
            "2.8284271247461903\n"
          ]
        }
      ]
    },
    {
      "cell_type": "code",
      "source": [
        "class animal:\n",
        " def __init__(self,animaltype):\n",
        "  self.animaltype=animaltype\n",
        "  self.feature=None\n",
        " def getType(self):\n",
        "  return self.animaltype\n",
        " def getFeature(self):\n",
        "  return self.feature\n",
        "\n",
        " def setType(self, type):\n",
        "  self.animaltype=type\n",
        "\n",
        " def setFeature(self, animalfeature):\n",
        "  self.feature=animalfeature\n",
        "\n",
        "\n",
        "animal1=animal(\"wolf\")\n",
        "animal1.setType(\"Monkey\")\n",
        "animal1.setFeature(\"ear\")\n",
        "print(\"the animal type is {}\".format(animal1.getType()), \"and it has {} \".format(animal1.getFeature()))\n",
        "\n"
      ],
      "metadata": {
        "colab": {
          "base_uri": "https://localhost:8080/"
        },
        "id": "bns4ddnhQ5qP",
        "outputId": "058009a3-73ef-4dec-e6c9-b985d6c7f340"
      },
      "execution_count": 3,
      "outputs": [
        {
          "output_type": "stream",
          "name": "stdout",
          "text": [
            "the animal type is Monkey and it has ear \n"
          ]
        }
      ]
    },
    {
      "cell_type": "code",
      "source": [
        "class human(animal):\n",
        "  def __init__(self,animaltype,intelactual):\n",
        "    super().__init__(animaltype)\n",
        "    self.intelactual=intelactual\n",
        "  def education(self):\n",
        "    print(\"all human has education rights \")\n",
        "\n",
        "animal2=human(\"human\",True)\n",
        "#animal2.setType(\"human\")\n",
        "print(animal2.getType())\n",
        "print(animal2.intelactual)\n",
        "animal2.education()\n"
      ],
      "metadata": {
        "colab": {
          "base_uri": "https://localhost:8080/"
        },
        "id": "PmEx8C5hKe5s",
        "outputId": "33c0808c-c153-47de-8f32-09ca00b10083"
      },
      "execution_count": 12,
      "outputs": [
        {
          "output_type": "stream",
          "name": "stdout",
          "text": [
            "human\n",
            "True\n",
            "all human has education rights \n"
          ]
        }
      ]
    },
    {
      "cell_type": "code",
      "source": [
        "class Student:\n",
        "    def __init__(self,firstName,surname,ID,age):\n",
        "        self.firstName=firstName\n",
        "        self.surname=surname\n",
        "        self.ID=ID\n",
        "        self.age=age\n",
        "    def __eq__(self,otherstudentAge):\n",
        "        if self.age==otherstudentAge:\n",
        "            return True\n",
        "        else:\n",
        "            return False\n",
        "\n",
        "s = Student(\"Pooh\",\"Bear\",1,10)\n",
        "\n",
        "t = Student(\"Christopher\",\"Robin\",2,7)\n",
        "\n",
        "o = Student(\"The\",\"Owl\",3,10)\n",
        "\n",
        "print(s == t)  # Output: False\n",
        "print(s == o)  # Output: True\n"
      ],
      "metadata": {
        "colab": {
          "base_uri": "https://localhost:8080/"
        },
        "id": "e7qsTos0XmH_",
        "outputId": "d172624f-5e99-4f0f-87bf-6bd6a5694ffa"
      },
      "execution_count": 4,
      "outputs": [
        {
          "output_type": "stream",
          "name": "stdout",
          "text": [
            "False\n",
            "True\n"
          ]
        }
      ]
    },
    {
      "cell_type": "code",
      "source": [
        "class Fraction:\n",
        "  def __init__(self,numerator,denominator):\n",
        "    self.numerator=numerator\n",
        "    self.denominator=denominator\n",
        "  def __str__(self):\n",
        "    result= f\"{self.numerator}/{self.denominator}\"\n",
        "    return str(result)\n",
        "\n",
        "f = Fraction(0,1)\n",
        "print(float(f))"
      ],
      "metadata": {
        "colab": {
          "base_uri": "https://localhost:8080/",
          "height": 183
        },
        "id": "Rs6r23AJbsJJ",
        "outputId": "c427a375-3320-468d-962d-6c09000992c5"
      },
      "execution_count": 28,
      "outputs": [
        {
          "output_type": "error",
          "ename": "TypeError",
          "evalue": "float() argument must be a string or a real number, not 'Fraction'",
          "traceback": [
            "\u001b[0;31m---------------------------------------------------------------------------\u001b[0m",
            "\u001b[0;31mTypeError\u001b[0m                                 Traceback (most recent call last)",
            "\u001b[0;32m<ipython-input-28-a65e82767950>\u001b[0m in \u001b[0;36m<cell line: 10>\u001b[0;34m()\u001b[0m\n\u001b[1;32m      8\u001b[0m \u001b[0;34m\u001b[0m\u001b[0m\n\u001b[1;32m      9\u001b[0m \u001b[0mf\u001b[0m \u001b[0;34m=\u001b[0m \u001b[0mFraction\u001b[0m\u001b[0;34m(\u001b[0m\u001b[0;36m0\u001b[0m\u001b[0;34m,\u001b[0m\u001b[0;36m1\u001b[0m\u001b[0;34m)\u001b[0m\u001b[0;34m\u001b[0m\u001b[0;34m\u001b[0m\u001b[0m\n\u001b[0;32m---> 10\u001b[0;31m \u001b[0mprint\u001b[0m\u001b[0;34m(\u001b[0m\u001b[0mfloat\u001b[0m\u001b[0;34m(\u001b[0m\u001b[0mf\u001b[0m\u001b[0;34m)\u001b[0m\u001b[0;34m)\u001b[0m\u001b[0;34m\u001b[0m\u001b[0;34m\u001b[0m\u001b[0m\n\u001b[0m",
            "\u001b[0;31mTypeError\u001b[0m: float() argument must be a string or a real number, not 'Fraction'"
          ]
        }
      ]
    },
    {
      "cell_type": "code",
      "source": [
        "class Fraction:\n",
        "  def __init__(self,numerator,denominator):\n",
        "    self.numerator=numerator\n",
        "    self.denominator=denominator\n",
        "  def __str__(self):\n",
        "    result= f\"{self.numerator}/{self.denominator}\"\n",
        "    return str(result)\n"
      ],
      "metadata": {
        "id": "lm08Oq8Pg31d"
      },
      "execution_count": null,
      "outputs": []
    },
    {
      "cell_type": "code",
      "source": [
        "class Fraction:\n",
        "    def __init__(self, numerator, denominator):\n",
        "        self.numerator = numerator\n",
        "        self.denominator = denominator\n",
        "\n",
        "    def __float__(self):\n",
        "        return self.numerator / self.denominator\n",
        "\n",
        "# Test the Fraction class\n",
        "f = Fraction(3, 4)\n",
        "print(float(f))  # Output: 0.75\n"
      ],
      "metadata": {
        "colab": {
          "base_uri": "https://localhost:8080/"
        },
        "id": "cqoVtEVagitM",
        "outputId": "807b3c04-b4e8-4862-8544-a71ae5968fc6"
      },
      "execution_count": 29,
      "outputs": [
        {
          "output_type": "stream",
          "name": "stdout",
          "text": [
            "0.75\n"
          ]
        }
      ]
    },
    {
      "cell_type": "code",
      "source": [
        "class Fraction:\n",
        "    def __init__(self, numerator, denominator):\n",
        "        self.numerator = numerator\n",
        "        self.denominator = denominator\n",
        "    def __str__(self):\n",
        "        return f\"{self.numerator}/{self.denominator}\"\n",
        "\n",
        "    def inverse(self):\n",
        "      return Fraction(self.denominator,self.numerator)\n",
        "\n",
        "f = Fraction(3, 4)\n",
        "oneOnF = f.inverse()\n",
        "print(oneOnF)"
      ],
      "metadata": {
        "colab": {
          "base_uri": "https://localhost:8080/"
        },
        "id": "thnPpfsThi5i",
        "outputId": "3914f93b-15d6-4bfd-e121-6e1b19c26e15"
      },
      "execution_count": 31,
      "outputs": [
        {
          "output_type": "stream",
          "name": "stdout",
          "text": [
            "4/3\n"
          ]
        }
      ]
    },
    {
      "cell_type": "code",
      "source": [
        "class Fraction:\n",
        "    def __init__(self, numerator, denominator):\n",
        "        self.numerator = numerator\n",
        "        self.denominator = denominator\n",
        "    def __str__(self):\n",
        "        return f\"{self.numerator}/{self.denominator}\"\n",
        "\n",
        "    def __add__(self,other):\n",
        "      Num1= self.numerator*other.denominator\n",
        "      Num2= self.denominator * other.numerator\n",
        "\n",
        "      denom=self.denominator* other.denominator\n",
        "\n",
        "      sum= Num1+Num2\n",
        "      return Fraction(sum,denom)\n",
        "\n",
        "f1 = Fraction(3, 2)\n",
        "f2 = Fraction(1, 4)\n",
        "f3 = f1 + f2\n",
        "print(f3)\n"
      ],
      "metadata": {
        "colab": {
          "base_uri": "https://localhost:8080/"
        },
        "id": "6i2s4qBqjjxE",
        "outputId": "11f42811-7fd3-47f4-b8ee-8c4ff05d0f45"
      },
      "execution_count": 33,
      "outputs": [
        {
          "output_type": "stream",
          "name": "stdout",
          "text": [
            "14/8\n"
          ]
        }
      ]
    },
    {
      "cell_type": "code",
      "source": [
        "class Fraction:\n",
        "    def __init__(self, numerator, denominator):\n",
        "        self.numerator = numerator\n",
        "        self.denominator = denominator\n",
        "    def __str__(self):\n",
        "        return f\"{self.numerator}/{self.denominator}\"\n",
        "\n",
        "    def __sub__(self,other):\n",
        "      Num1= self.numerator*other.denominator\n",
        "      Num2= self.denominator * other.numerator\n",
        "\n",
        "      denom=self.denominator* other.denominator\n",
        "\n",
        "      sum= Num1-Num2\n",
        "      return Fraction(sum,denom)\n",
        "\n",
        "f1 = Fraction(3, 2)\n",
        "f2 = Fraction(1, 4)\n",
        "f3 = f1 - f2\n",
        "print(f3)"
      ],
      "metadata": {
        "colab": {
          "base_uri": "https://localhost:8080/"
        },
        "id": "fLHHMtqmltWo",
        "outputId": "08befff6-106c-468b-89a3-e39a97952d8f"
      },
      "execution_count": 36,
      "outputs": [
        {
          "output_type": "stream",
          "name": "stdout",
          "text": [
            "10/8\n"
          ]
        }
      ]
    }
  ]
}