{
  "nbformat": 4,
  "nbformat_minor": 0,
  "metadata": {
    "colab": {
      "provenance": [],
      "authorship_tag": "ABX9TyPV37lZzw2O10nIcG3SkNis",
      "include_colab_link": true
    },
    "kernelspec": {
      "name": "python3",
      "display_name": "Python 3"
    },
    "language_info": {
      "name": "python"
    }
  },
  "cells": [
    {
      "cell_type": "markdown",
      "metadata": {
        "id": "view-in-github",
        "colab_type": "text"
      },
      "source": [
        "<a href=\"https://colab.research.google.com/github/VrushaliKamble9/Python-Code/blob/main/listpractice.ipynb\" target=\"_parent\"><img src=\"https://colab.research.google.com/assets/colab-badge.svg\" alt=\"Open In Colab\"/></a>"
      ]
    },
    {
      "cell_type": "code",
      "execution_count": 2,
      "metadata": {
        "colab": {
          "base_uri": "https://localhost:8080/"
        },
        "id": "L0khnbrgobU0",
        "outputId": "04c6b66a-b981-4829-b508-8f7e808d268f"
      },
      "outputs": [
        {
          "output_type": "stream",
          "name": "stdout",
          "text": [
            "-5\n"
          ]
        }
      ],
      "source": [
        "#Write a  Python program to sum all the items in a list.\n",
        "def sumlist(a):\n",
        "  temp=0\n",
        "  for i in a:\n",
        "    temp+=i\n",
        "  return temp\n",
        "\n",
        "print(sumlist([1, 2, -8]))\n"
      ]
    },
    {
      "cell_type": "code",
      "source": [
        "#2. Write a  Python program to multiply all the items in a list.\n",
        "def mlist(a):\n",
        "  temp=1\n",
        "  for i in a:\n",
        "    temp*=i\n",
        "  return temp\n",
        "\n",
        "print(mlist([1, 2, -8]))\n"
      ],
      "metadata": {
        "colab": {
          "base_uri": "https://localhost:8080/"
        },
        "id": "pG-uMh-DpGN8",
        "outputId": "721391b9-4da3-445f-97d5-a25aa9a27949"
      },
      "execution_count": 3,
      "outputs": [
        {
          "output_type": "stream",
          "name": "stdout",
          "text": [
            "-16\n"
          ]
        }
      ]
    },
    {
      "cell_type": "code",
      "source": [
        "# Write a Python program to get the largest number from a list.\n",
        "def minmax(a):\n",
        "  max=a[0]\n",
        "  for i in a:\n",
        "    if i>max:\n",
        "      max=i\n",
        "  return max\n",
        "\n",
        "print(minmax([1, 2, -8]))"
      ],
      "metadata": {
        "colab": {
          "base_uri": "https://localhost:8080/"
        },
        "id": "qLMfm1KlpYt6",
        "outputId": "c943a212-f435-4066-ad85-a356f8e3786c"
      },
      "execution_count": 6,
      "outputs": [
        {
          "output_type": "stream",
          "name": "stdout",
          "text": [
            "2\n"
          ]
        }
      ]
    },
    {
      "cell_type": "code",
      "source": [
        "# Write a Python program to get the smallest number from a list.\n",
        "def minmax(a):\n",
        "  min=a[0]\n",
        "  for i in a:\n",
        "    if i<min:\n",
        "      min=i\n",
        "  return min\n",
        "\n",
        "print(minmax([1, 2, -8]))"
      ],
      "metadata": {
        "colab": {
          "base_uri": "https://localhost:8080/"
        },
        "id": "xyE2AIZCqIQe",
        "outputId": "cae5e263-b78e-476c-b721-097587dbe823"
      },
      "execution_count": 7,
      "outputs": [
        {
          "output_type": "stream",
          "name": "stdout",
          "text": [
            "-8\n"
          ]
        }
      ]
    },
    {
      "cell_type": "code",
      "source": [
        "#Write a Python program to count the number of strings from a given list of strings. The string length is 2 or more and the first and last characters are the same.\n",
        "\n",
        "def findchar(a):\n",
        "  counter=0\n",
        "  for word in a:\n",
        "    if len(word)>0 and word[0] == word[-1]:\n",
        "      counter+=1\n",
        "  return counter\n",
        "\n",
        "r=findchar(['abc', 'bcb', 'aba', '1221'])\n",
        "print(r)"
      ],
      "metadata": {
        "colab": {
          "base_uri": "https://localhost:8080/"
        },
        "id": "S9WiojiOqITU",
        "outputId": "e98e7156-dcb9-4fc0-c243-5c7748c6d218"
      },
      "execution_count": 13,
      "outputs": [
        {
          "output_type": "stream",
          "name": "stdout",
          "text": [
            "3\n"
          ]
        }
      ]
    },
    {
      "cell_type": "code",
      "source": [
        "#Write a Python program to get a list, sorted in increasing order by the last element in each tuple from a given list of non-empty tuples.\n",
        "def first(a):\n",
        "  return a[-1]\n",
        "\n",
        "def sort(t):\n",
        "  return sorted(t, key=first)\n",
        "\n",
        "tuples_list = [(1, 3), (3, 2), (2, 1)]\n",
        "sorted_list = sort(tuples_list)\n",
        "print(\"Sorted list of tuples:\", sorted_list)\n"
      ],
      "metadata": {
        "colab": {
          "base_uri": "https://localhost:8080/"
        },
        "id": "d5mb3cYes5-Q",
        "outputId": "d049fe6c-ecf8-4fcb-cc27-81b417c537ba"
      },
      "execution_count": 16,
      "outputs": [
        {
          "output_type": "stream",
          "name": "stdout",
          "text": [
            "Sorted list of tuples: [(2, 1), (3, 2), (1, 3)]\n"
          ]
        }
      ]
    },
    {
      "cell_type": "code",
      "source": [
        "#7. Write a  Python program to remove duplicates from a list.\n",
        "def duplicate(d):\n",
        "  unique=[]\n",
        "  for i in d:\n",
        "    if i not in unique:\n",
        "      unique.append(i)\n",
        "  return unique\n",
        "\n",
        "sample_list = [1, 2, 3, 2, 1, 4, 5, 4, 6]\n",
        "result_list = duplicate(sample_list)\n",
        "print(\"List after removing duplicates:\", result_list)"
      ],
      "metadata": {
        "colab": {
          "base_uri": "https://localhost:8080/"
        },
        "id": "VUCop7pruDfM",
        "outputId": "984c7364-cdb1-42d6-b715-5fcb84aa64fb"
      },
      "execution_count": 19,
      "outputs": [
        {
          "output_type": "stream",
          "name": "stdout",
          "text": [
            "List after removing duplicates: [1, 2, 3, 4, 5, 6]\n"
          ]
        }
      ]
    },
    {
      "cell_type": "code",
      "source": [
        "#8. Write a  Python program to check if a list is empty or not.\n",
        "def empty(d):\n",
        "    if not d:\n",
        "      print(\"list is emppty\")\n",
        "    else:\n",
        "      print(\"list is not empty\")\n",
        "\n",
        "sample_list = []\n",
        "result_list = empty(sample_list)\n"
      ],
      "metadata": {
        "colab": {
          "base_uri": "https://localhost:8080/"
        },
        "id": "HqtvAdf8vnFn",
        "outputId": "4cc312ba-b824-4259-b97b-d35547f644e8"
      },
      "execution_count": 24,
      "outputs": [
        {
          "output_type": "stream",
          "name": "stdout",
          "text": [
            "list is emppty\n"
          ]
        }
      ]
    }
  ]
}