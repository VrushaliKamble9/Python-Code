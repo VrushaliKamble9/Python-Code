{
  "nbformat": 4,
  "nbformat_minor": 0,
  "metadata": {
    "colab": {
      "provenance": [],
      "authorship_tag": "ABX9TyPg2JlqGyOSZMOIobzRb4GY",
      "include_colab_link": true
    },
    "kernelspec": {
      "name": "python3",
      "display_name": "Python 3"
    },
    "language_info": {
      "name": "python"
    }
  },
  "cells": [
    {
      "cell_type": "markdown",
      "metadata": {
        "id": "view-in-github",
        "colab_type": "text"
      },
      "source": [
        "<a href=\"https://colab.research.google.com/github/VrushaliKamble9/Python-Code/blob/main/Untitled15.ipynb\" target=\"_parent\"><img src=\"https://colab.research.google.com/assets/colab-badge.svg\" alt=\"Open In Colab\"/></a>"
      ]
    },
    {
      "cell_type": "code",
      "execution_count": 33,
      "metadata": {
        "colab": {
          "base_uri": "https://localhost:8080/"
        },
        "id": "6CQvQfr7RMQS",
        "outputId": "99a48b56-ec59-4d77-9d3f-37b417867443"
      },
      "outputs": [
        {
          "output_type": "stream",
          "name": "stdout",
          "text": [
            "0     2\n",
            "1     4\n",
            "2     6\n",
            "3     8\n",
            "4    10\n",
            "dtype: int64\n",
            "(2, 4, 6, 8, 10)\n"
          ]
        }
      ],
      "source": [
        "import pandas as pd\n",
        "\n",
        "ds=pd.Series([2,4,6,8,10])\n",
        "print(ds)\n",
        "l=tuple(ds)\n",
        "print(l)"
      ]
    },
    {
      "cell_type": "code",
      "source": [
        "#Write a Pandas program to add, subtract, multiple and divide two Pandas Series.\n",
        "ds2=pd.Series([1,3,5,7,9])\n",
        "add=ds+ds2\n",
        "mul=ds*ds2\n",
        "div=ds/ds2\n",
        "\n",
        "print(add)\n",
        "print(mul)\n",
        "print(div)"
      ],
      "metadata": {
        "colab": {
          "base_uri": "https://localhost:8080/"
        },
        "id": "mkSMJoZMv-_0",
        "outputId": "09ac6c4c-3c72-46eb-b550-ee2fb93fa3dc"
      },
      "execution_count": 34,
      "outputs": [
        {
          "output_type": "stream",
          "name": "stdout",
          "text": [
            "0     3\n",
            "1     7\n",
            "2    11\n",
            "3    15\n",
            "4    19\n",
            "dtype: int64\n",
            "0     2\n",
            "1    12\n",
            "2    30\n",
            "3    56\n",
            "4    90\n",
            "dtype: int64\n",
            "0    2.000000\n",
            "1    1.333333\n",
            "2    1.200000\n",
            "3    1.142857\n",
            "4    1.111111\n",
            "dtype: float64\n"
          ]
        }
      ]
    },
    {
      "cell_type": "code",
      "source": [
        "mydict={'a': 100, 'b': 200, 'c': 300, 'd': 400, 'e': 800}\n",
        "dataset=pd.Series(mydict)\n",
        "print(dataset)"
      ],
      "metadata": {
        "colab": {
          "base_uri": "https://localhost:8080/"
        },
        "id": "CHKvqMJGwjkY",
        "outputId": "e51a31e5-16e4-4e6a-ee4f-638184f97f83"
      },
      "execution_count": 39,
      "outputs": [
        {
          "output_type": "stream",
          "name": "stdout",
          "text": [
            "a    100\n",
            "b    200\n",
            "c    300\n",
            "d    400\n",
            "e    800\n",
            "dtype: int64\n"
          ]
        }
      ]
    }
  ]
}