{
  "nbformat": 4,
  "nbformat_minor": 0,
  "metadata": {
    "colab": {
      "provenance": [],
      "authorship_tag": "ABX9TyNtaJ/GYnq5zKcrPFf9wZkj",
      "include_colab_link": true
    },
    "kernelspec": {
      "name": "python3",
      "display_name": "Python 3"
    },
    "language_info": {
      "name": "python"
    }
  },
  "cells": [
    {
      "cell_type": "markdown",
      "metadata": {
        "id": "view-in-github",
        "colab_type": "text"
      },
      "source": [
        "<a href=\"https://colab.research.google.com/github/VrushaliKamble9/Python-Code/blob/main/practice1.ipynb\" target=\"_parent\"><img src=\"https://colab.research.google.com/assets/colab-badge.svg\" alt=\"Open In Colab\"/></a>"
      ]
    },
    {
      "cell_type": "code",
      "execution_count": 19,
      "metadata": {
        "colab": {
          "base_uri": "https://localhost:8080/"
        },
        "id": "FJ8HTjvTy6N6",
        "outputId": "c7ef07ef-e71c-4aaf-84ae-61fac55c0236"
      },
      "outputs": [
        {
          "output_type": "stream",
          "name": "stdout",
          "text": [
            "0\n",
            "1\n",
            "before 40\n",
            "after 30\n",
            "2\n",
            "before 30\n",
            "after 3\n",
            "before 40\n",
            "after 30\n",
            "3\n",
            "before 30\n",
            "after 4\n",
            "before 40\n",
            "after 30\n",
            "4\n",
            "before 30\n",
            "after 13\n",
            "before 40\n",
            "after 30\n",
            "printsecond largest number 30\n",
            "Sorted list is: [3, 4, 13, 30, 40]\n"
          ]
        }
      ],
      "source": [
        "def bubble_sort(arr):\n",
        "    n = len(arr)\n",
        "\n",
        "    for i in range(n):\n",
        "        print(i)\n",
        "        # Last i elements are already in place, so we don't need to check them again\n",
        "        for j in range(n):\n",
        "            # Swap if the element found is greater than the next element\n",
        "            if arr[j] > arr[i]:\n",
        "                print(\"before\", arr[j])\n",
        "                arr[j], arr[i] = arr[i], arr[j]\n",
        "                print(\"after\", arr[j])\n",
        "    if n>=2:\n",
        "      secondlargest=arr[-2]\n",
        "      print(\"printsecond largest number\",secondlargest)\n",
        "\n",
        "# Example usage:\n",
        "my_list = [40,30,3,4,13]\n",
        "bubble_sort(my_list)\n",
        "\n",
        "print(\"Sorted list is:\", my_list)\n"
      ]
    },
    {
      "cell_type": "code",
      "source": [
        "def bubble_sort(arr,a):\n",
        "    n = len(arr)\n",
        "\n",
        "    for i in range(n):\n",
        "        print(i)\n",
        "        # Last i elements are already in place, so we don't need to check them again\n",
        "        for j in range(n):\n",
        "            # Swap if the element found is greater than the next element\n",
        "            if arr[j] < arr[i]:\n",
        "                print(\"before\", arr[j])\n",
        "                arr[j], arr[i] = arr[i], arr[j]\n",
        "                print(\"after\", arr[j])\n",
        "    if n>=2:\n",
        "      Nlargest=arr[:a]\n",
        "      print(\"printsecond largest number\",Nlargest)\n",
        "\n",
        "# Example usage:\n",
        "my_list = [40,30,3,4,13]\n",
        "bubble_sort(my_list,2)\n",
        "\n",
        "print(\"Sorted list is:\", my_list)\n"
      ],
      "metadata": {
        "colab": {
          "base_uri": "https://localhost:8080/"
        },
        "id": "J9YhNUAH7lxS",
        "outputId": "d8fa9252-7547-4a6d-a405-341e389c2d3f"
      },
      "execution_count": 44,
      "outputs": [
        {
          "output_type": "stream",
          "name": "stdout",
          "text": [
            "0\n",
            "before 30\n",
            "after 40\n",
            "before 3\n",
            "after 30\n",
            "1\n",
            "before 3\n",
            "after 40\n",
            "2\n",
            "before 3\n",
            "after 30\n",
            "3\n",
            "before 3\n",
            "after 4\n",
            "4\n",
            "before 4\n",
            "after 13\n",
            "before 3\n",
            "after 4\n",
            "printsecond largest number [40, 30]\n",
            "Sorted list is: [40, 30, 13, 4, 3]\n"
          ]
        }
      ]
    },
    {
      "cell_type": "code",
      "source": [
        "def removelist(n):\n",
        "  filteredlist=[]\n",
        "  for i in n:\n",
        "    if i:\n",
        "     filteredlist.append(i)\n",
        "  return filteredlist\n",
        "\n",
        "\n",
        "\n",
        "n = [[1, 2, 3], [], [4, 5], [], [6, 7, 8], []]\n",
        "print(\"List after removing empty lists:\", removelist(n))\n"
      ],
      "metadata": {
        "colab": {
          "base_uri": "https://localhost:8080/"
        },
        "id": "6yDM_joQBUf_",
        "outputId": "a8d608a8-8fbb-4299-bd73-b447d6ee653b"
      },
      "execution_count": 51,
      "outputs": [
        {
          "output_type": "stream",
          "name": "stdout",
          "text": [
            "List after removing empty lists: [[1, 2, 3], [4, 5], [6, 7, 8]]\n"
          ]
        }
      ]
    },
    {
      "cell_type": "code",
      "source": [
        "def countchar(list,element):\n",
        "  count=list.count(element)\n",
        "  return count\n",
        "\n",
        "list1=[\"a\",\"a\",\"a\",\"c\"]\n",
        "element=\"a\"\n",
        "print(\"the number of a appear is\",countchar(list1,element))"
      ],
      "metadata": {
        "colab": {
          "base_uri": "https://localhost:8080/"
        },
        "id": "hyYSV5lbEmVx",
        "outputId": "a683dcee-a1bb-4a52-87a5-f3037a785133"
      },
      "execution_count": 52,
      "outputs": [
        {
          "output_type": "stream",
          "name": "stdout",
          "text": [
            "the number of a appear is 3\n"
          ]
        }
      ]
    },
    {
      "cell_type": "code",
      "source": [
        "def greterchar(list,k):\n",
        "  result=[]\n",
        "  for i in list:\n",
        "    if len(i)>k:\n",
        "      result.append(i)\n",
        "\n",
        "  return result\n",
        "\n",
        "\n",
        "a=[\"banana\",\"kiwi\",\"chocolate\"]\n",
        "k=5\n",
        "print(greterchar(a,5))"
      ],
      "metadata": {
        "colab": {
          "base_uri": "https://localhost:8080/"
        },
        "id": "aZGw87C8FXkU",
        "outputId": "0e6086d9-50a2-41c0-aaa6-b5538d9ce50b"
      },
      "execution_count": 53,
      "outputs": [
        {
          "output_type": "stream",
          "name": "stdout",
          "text": [
            "['banana', 'chocolate']\n"
          ]
        }
      ]
    },
    {
      "cell_type": "code",
      "source": [
        "def checkwrd(s1,s2):\n",
        "  w1=s1.split()\n",
        "  w2=s2.split()\n",
        "\n",
        "  uncommonwr=[]\n",
        "  for i in w1:\n",
        "    if i in w2 :\n",
        "      uncommonwr.append(i)\n",
        "\n",
        "\n",
        " # for j in w2:\n",
        "  #  if j in w1:\n",
        "   #   uncommonwr.append(j)\n",
        "\n",
        "  return uncommonwr\n",
        "\n",
        "str1 = \"apple banana mango\"\n",
        "str2 = \"banana orange mango\"\n",
        "\n",
        "print(checkwrd(str1,str2))\n",
        "\n",
        "\n"
      ],
      "metadata": {
        "colab": {
          "base_uri": "https://localhost:8080/"
        },
        "id": "JdJYi2lZLQqJ",
        "outputId": "01b6595e-a6e0-4136-a294-45275f6c00fa"
      },
      "execution_count": 57,
      "outputs": [
        {
          "output_type": "stream",
          "name": "stdout",
          "text": [
            "['banana', 'mango']\n"
          ]
        }
      ]
    },
    {
      "cell_type": "code",
      "source": [
        "sentence = input(\"Enter a sentence: \")\n",
        "# Initialize counters for letters and digits\n",
        "letter_count = 0\n",
        "digit_count = 0\n",
        "# Iterate through each character in the sentence\n",
        "for char in sentence:\n",
        " if char.isalpha():\n",
        "  letter_count += 1\n",
        " elif char.isdigit():\n",
        "  digit_count += 1\n",
        "# Print the results\n",
        "print(\"LETTERS\", letter_count)\n",
        "print(\"DIGITS\", digit_count)"
      ],
      "metadata": {
        "colab": {
          "base_uri": "https://localhost:8080/"
        },
        "id": "WOpyOy22cSyv",
        "outputId": "a6066fb8-0f7e-4a3a-aed4-410c21c4b73c"
      },
      "execution_count": 61,
      "outputs": [
        {
          "output_type": "stream",
          "name": "stdout",
          "text": [
            "Enter a sentence: 56kl\n",
            "LETTERS 2\n",
            "DIGITS 2\n"
          ]
        }
      ]
    }
  ]
}