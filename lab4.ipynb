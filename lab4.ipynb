{
 "cells": [
  {
   "cell_type": "code",
   "execution_count": 19,
   "id": "0100a346",
   "metadata": {},
   "outputs": [
    {
     "name": "stdout",
     "output_type": "stream",
     "text": [
      "Index(['ELEXM_SETTLEMENT_DATE', 'ELEXM_SETTLEMENT_PERIOD', 'ELEXM_utc',\n",
      "       'ELEXM_localtime', 'ELEXM_ROWFLAG', 'NGEM_ROWFLAG', 'POWER_ESPENI_MW',\n",
      "       'POWER_ELEXM_CCGT_MW', 'POWER_ELEXM_OIL_MW', 'POWER_ELEXM_COAL_MW',\n",
      "       'POWER_ELEXM_NUCLEAR_MW', 'POWER_ELEXM_WIND_MW', 'POWER_ELEXM_PS_MW',\n",
      "       'POWER_ELEXM_NPSHYD_MW', 'POWER_ELEXM_OCGT_MW',\n",
      "       'POWER_ELEXM_OTHER_POSTCALC_MW', 'POWER_ELEXM_BIOMASS_POSTCALC_MW',\n",
      "       'POWER_NGEM_EMBEDDED_SOLAR_GENERATION_MW',\n",
      "       'POWER_NGEM_EMBEDDED_WIND_GENERATION_MW', 'POWER_NGEM_BRITNED_FLOW_MW',\n",
      "       'POWER_NGEM_EAST_WEST_FLOW_MW', 'POWER_NGEM_MOYLE_FLOW_MW',\n",
      "       'POWER_NGEM_NEMO_FLOW_MW', 'POWER_NGEM_IFA_FLOW_MW',\n",
      "       'POWER_NGEM_IFA2_FLOW_MW', 'POWER_NGEM_NSL_FLOW_MW'],\n",
      "      dtype='object')\n"
     ]
    }
   ],
   "source": [
    "import pandas as pd\n",
    "from pathlib import Path\n",
    "\n",
    "dataset=pd.read_csv('E:/rhul/Python/Study Material/espeni_raw.csv')\n",
    "print(dataset.columns)\n",
    "#print(dataset.dtypes)"
   ]
  },
  {
   "cell_type": "code",
   "execution_count": 20,
   "id": "0bafadfe",
   "metadata": {},
   "outputs": [
    {
     "name": "stdout",
     "output_type": "stream",
     "text": [
      "10\n"
     ]
    }
   ],
   "source": [
    "import random as rd\n",
    "n=rd.randint(1,10)\n",
    "print(n)"
   ]
  },
  {
   "cell_type": "code",
   "execution_count": 21,
   "id": "70027823",
   "metadata": {},
   "outputs": [
    {
     "name": "stdout",
     "output_type": "stream",
     "text": [
      "0         2008-11-05T21:00:00+00:00\n",
      "1         2008-11-05T21:30:00+00:00\n",
      "2         2008-11-05T22:00:00+00:00\n",
      "3         2008-11-05T22:30:00+00:00\n",
      "4         2008-11-05T23:00:00+00:00\n",
      "                    ...            \n",
      "226271    2021-10-02T21:30:00+01:00\n",
      "226272    2021-10-02T22:00:00+01:00\n",
      "226273    2021-10-02T22:30:00+01:00\n",
      "226274    2021-10-02T23:00:00+01:00\n",
      "226275    2021-10-02T23:30:00+01:00\n",
      "Name: ELEXM_localtime, Length: 226276, dtype: object\n"
     ]
    }
   ],
   "source": [
    "col1=dataset['ELEXM_localtime']\n",
    "print(col1)"
   ]
  },
  {
   "cell_type": "code",
   "execution_count": 53,
   "id": "9bdfa47f",
   "metadata": {},
   "outputs": [
    {
     "name": "stdout",
     "output_type": "stream",
     "text": [
      "                  ELEXM_localtime  POWER_ELEXM_CCGT_MW\n",
      "0       2008-11-05T21:00:00+00:00              16468.0\n",
      "1       2008-11-05T21:30:00+00:00              15240.0\n",
      "2       2008-11-05T22:00:00+00:00              14402.0\n",
      "3       2008-11-05T22:30:00+00:00              13170.0\n",
      "4       2008-11-05T23:00:00+00:00              12520.0\n",
      "...                           ...                  ...\n",
      "226271  2021-10-02T21:30:00+01:00               9401.0\n",
      "226272  2021-10-02T22:00:00+01:00               7540.0\n",
      "226273  2021-10-02T22:30:00+01:00               6599.0\n",
      "226274  2021-10-02T23:00:00+01:00               6118.0\n",
      "226275  2021-10-02T23:30:00+01:00               4618.0\n",
      "\n",
      "[226276 rows x 2 columns]\n",
      "2008-11-05T21:00:00+00:00\n",
      "        ELEXM_localtime  POWER_ELEXM_CCGT_MW\n",
      "0                 False                False\n",
      "1                 False                False\n",
      "2                 False                False\n",
      "3                 False                False\n",
      "4                 False                False\n",
      "...                 ...                  ...\n",
      "226271            False                False\n",
      "226272            False                False\n",
      "226273            False                False\n",
      "226274            False                False\n",
      "226275            False                False\n",
      "\n",
      "[226276 rows x 2 columns]\n"
     ]
    }
   ],
   "source": [
    "mulcol=dataset[['ELEXM_localtime','POWER_ELEXM_CCGT_MW']]\n",
    "print(mulcol)\n",
    "print(mulcol.iloc[0][0])\n",
    "a=mulcol.isnull()\n",
    "print(a)"
   ]
  },
  {
   "cell_type": "code",
   "execution_count": 51,
   "id": "00c97bd3",
   "metadata": {},
   "outputs": [
    {
     "name": "stdout",
     "output_type": "stream",
     "text": [
      "2\n"
     ]
    }
   ],
   "source": [
    "A = [ [1,2,True], [\"A\",\"B\",False]]\n",
    "print(A[0][1]) "
   ]
  },
  {
   "cell_type": "code",
   "execution_count": 58,
   "id": "b41fc9c8",
   "metadata": {},
   "outputs": [
    {
     "name": "stdout",
     "output_type": "stream",
     "text": [
      "True\n"
     ]
    }
   ],
   "source": [
    "def checkEntry(d,s):\n",
    "    for c in d.columns:\n",
    "        if c==s:\n",
    "         return True\n",
    "        \n",
    "    return False\n",
    "    \n",
    "r=checkEntry(dataset,'ELEXM_localtime')\n",
    "print(r)"
   ]
  },
  {
   "cell_type": "code",
   "execution_count": 70,
   "id": "c56b816d",
   "metadata": {},
   "outputs": [
    {
     "name": "stdout",
     "output_type": "stream",
     "text": [
      "                  ELEXM_localtime\n",
      "0       2008-11-05T21:00:00+00:00\n",
      "1       2008-11-05T21:30:00+00:00\n",
      "2       2008-11-05T22:00:00+00:00\n",
      "3       2008-11-05T22:30:00+00:00\n",
      "4       2008-11-05T23:00:00+00:00\n",
      "...                           ...\n",
      "226271  2021-10-02T21:30:00+01:00\n",
      "226272  2021-10-02T22:00:00+01:00\n",
      "226273  2021-10-02T22:30:00+01:00\n",
      "226274  2021-10-02T23:00:00+01:00\n",
      "226275  2021-10-02T23:30:00+01:00\n",
      "\n",
      "[226276 rows x 1 columns]\n"
     ]
    }
   ],
   "source": [
    "def selectColumns(df,l):\n",
    "    for i in l:\n",
    "        if i in df.columns:\n",
    "            return df[l]\n",
    "        else:\n",
    "            return None\n",
    "\n",
    "l = ['ELEXM_localtime']\n",
    "dfs = selectColumns(dataset,l)\n",
    "print(dfs)"
   ]
  },
  {
   "cell_type": "code",
   "execution_count": 80,
   "id": "1bd8f2e7",
   "metadata": {},
   "outputs": [
    {
     "ename": "TypeError",
     "evalue": "unhashable type: 'list'",
     "output_type": "error",
     "traceback": [
      "\u001b[1;31m---------------------------------------------------------------------------\u001b[0m",
      "\u001b[1;31mTypeError\u001b[0m                                 Traceback (most recent call last)",
      "Cell \u001b[1;32mIn[80], line 8\u001b[0m\n\u001b[0;32m      5\u001b[0m         \u001b[38;5;28;01mreturn\u001b[39;00m \u001b[38;5;28;01mNone\u001b[39;00m\n\u001b[0;32m      7\u001b[0m l \u001b[38;5;241m=\u001b[39m [\u001b[38;5;124m'\u001b[39m\u001b[38;5;124mPOWER_ELEXM_NPSHYD_MW\u001b[39m\u001b[38;5;124m'\u001b[39m]\n\u001b[1;32m----> 8\u001b[0m d \u001b[38;5;241m=\u001b[39m \u001b[43mcleanColumn\u001b[49m\u001b[43m(\u001b[49m\u001b[43mdataset\u001b[49m\u001b[43m,\u001b[49m\u001b[43ml\u001b[49m\u001b[43m)\u001b[49m\n\u001b[0;32m      9\u001b[0m \u001b[38;5;28mprint\u001b[39m(dfs)\n",
      "Cell \u001b[1;32mIn[80], line 2\u001b[0m, in \u001b[0;36mcleanColumn\u001b[1;34m(df, s)\u001b[0m\n\u001b[0;32m      1\u001b[0m \u001b[38;5;28;01mdef\u001b[39;00m \u001b[38;5;21mcleanColumn\u001b[39m(df,s):\n\u001b[1;32m----> 2\u001b[0m     \u001b[38;5;28;01mif\u001b[39;00m \u001b[43ms\u001b[49m\u001b[43m \u001b[49m\u001b[38;5;129;43;01min\u001b[39;49;00m\u001b[43m \u001b[49m\u001b[43mdf\u001b[49m\u001b[38;5;241;43m.\u001b[39;49m\u001b[43mcolumns\u001b[49m:\n\u001b[0;32m      3\u001b[0m         \u001b[38;5;28;01mreturn\u001b[39;00m df\u001b[38;5;241m.\u001b[39mdropna(subset\u001b[38;5;241m=\u001b[39m[s])\n\u001b[0;32m      4\u001b[0m     \u001b[38;5;28;01melse\u001b[39;00m:\n",
      "File \u001b[1;32mC:\\ProgramData\\anaconda3\\lib\\site-packages\\pandas\\core\\indexes\\base.py:5289\u001b[0m, in \u001b[0;36mIndex.__contains__\u001b[1;34m(self, key)\u001b[0m\n\u001b[0;32m   5254\u001b[0m \u001b[38;5;28;01mdef\u001b[39;00m \u001b[38;5;21m__contains__\u001b[39m(\u001b[38;5;28mself\u001b[39m, key: Any) \u001b[38;5;241m-\u001b[39m\u001b[38;5;241m>\u001b[39m \u001b[38;5;28mbool\u001b[39m:\n\u001b[0;32m   5255\u001b[0m     \u001b[38;5;124;03m\"\"\"\u001b[39;00m\n\u001b[0;32m   5256\u001b[0m \u001b[38;5;124;03m    Return a boolean indicating whether the provided key is in the index.\u001b[39;00m\n\u001b[0;32m   5257\u001b[0m \n\u001b[1;32m   (...)\u001b[0m\n\u001b[0;32m   5287\u001b[0m \u001b[38;5;124;03m    False\u001b[39;00m\n\u001b[0;32m   5288\u001b[0m \u001b[38;5;124;03m    \"\"\"\u001b[39;00m\n\u001b[1;32m-> 5289\u001b[0m     \u001b[38;5;28;43mhash\u001b[39;49m\u001b[43m(\u001b[49m\u001b[43mkey\u001b[49m\u001b[43m)\u001b[49m\n\u001b[0;32m   5290\u001b[0m     \u001b[38;5;28;01mtry\u001b[39;00m:\n\u001b[0;32m   5291\u001b[0m         \u001b[38;5;28;01mreturn\u001b[39;00m key \u001b[38;5;129;01min\u001b[39;00m \u001b[38;5;28mself\u001b[39m\u001b[38;5;241m.\u001b[39m_engine\n",
      "\u001b[1;31mTypeError\u001b[0m: unhashable type: 'list'"
     ]
    }
   ],
   "source": [
    "def cleanColumn(df,s):\n",
    "    if s in df.columns:\n",
    "        return df.dropna(subset=[s])\n",
    "    else:\n",
    "        return None\n",
    "        \n",
    "l = ['POWER_ELEXM_NPSHYD_MW']\n",
    "d = cleanColumn(dataset,l)\n",
    "print(dfs)\n",
    "            \n",
    "    "
   ]
  },
  {
   "cell_type": "code",
   "execution_count": 92,
   "id": "32296c26",
   "metadata": {},
   "outputs": [
    {
     "name": "stdout",
     "output_type": "stream",
     "text": [
      "None\n"
     ]
    }
   ],
   "source": [
    "import pandas as pd\n",
    "\n",
    "def selectDate(df, c, date):\n",
    "    if c in df.columns:\n",
    "        return df[df[c] == date]\n",
    "    else:\n",
    "        return None\n",
    "\n",
    "filtered_df = selectDate(dataset, '', '2008-11-05')\n",
    "print(filtered_df)\n"
   ]
  },
  {
   "cell_type": "code",
   "execution_count": 97,
   "id": "a357b23d",
   "metadata": {},
   "outputs": [
    {
     "name": "stdout",
     "output_type": "stream",
     "text": [
      "       ELEXM_SETTLEMENT_DATE  ELEXM_SETTLEMENT_PERIOD  \\\n",
      "179837            2019-02-08                       24   \n",
      "179838            2019-02-08                       25   \n",
      "179839            2019-02-08                       26   \n",
      "179840            2019-02-08                       27   \n",
      "179841            2019-02-08                       28   \n",
      "...                      ...                      ...   \n",
      "202402            2020-05-23                       31   \n",
      "202403            2020-05-23                       32   \n",
      "202404            2020-05-23                       33   \n",
      "202405            2020-05-23                       34   \n",
      "202406            2020-05-23                       35   \n",
      "\n",
      "                        ELEXM_utc            ELEXM_localtime  ELEXM_ROWFLAG  \\\n",
      "179837  2019-02-08T11:30:00+00:00  2019-02-08T11:30:00+00:00              1   \n",
      "179838  2019-02-08T12:00:00+00:00  2019-02-08T12:00:00+00:00              1   \n",
      "179839  2019-02-08T12:30:00+00:00  2019-02-08T12:30:00+00:00              1   \n",
      "179840  2019-02-08T13:00:00+00:00  2019-02-08T13:00:00+00:00              1   \n",
      "179841  2019-02-08T13:30:00+00:00  2019-02-08T13:30:00+00:00              1   \n",
      "...                           ...                        ...            ...   \n",
      "202402  2020-05-23T14:00:00+00:00  2020-05-23T15:00:00+01:00              1   \n",
      "202403  2020-05-23T14:30:00+00:00  2020-05-23T15:30:00+01:00              1   \n",
      "202404  2020-05-23T15:00:00+00:00  2020-05-23T16:00:00+01:00              1   \n",
      "202405  2020-05-23T15:30:00+00:00  2020-05-23T16:30:00+01:00              1   \n",
      "202406  2020-05-23T16:00:00+00:00  2020-05-23T17:00:00+01:00              1   \n",
      "\n",
      "        NGEM_ROWFLAG  POWER_ESPENI_MW  POWER_ELEXM_CCGT_MW  \\\n",
      "179837             1            45366              13987.0   \n",
      "179838             1            45663              13987.0   \n",
      "179839             1            45516              13723.0   \n",
      "179840             1            45237              13188.0   \n",
      "179841             1            44481              12439.0   \n",
      "...              ...              ...                  ...   \n",
      "202402             1            28588               4769.0   \n",
      "202403             1            29197               4761.0   \n",
      "202404             1            29520               4604.0   \n",
      "202405             1            29392               4822.0   \n",
      "202406             1            29631               4768.0   \n",
      "\n",
      "        POWER_ELEXM_OIL_MW  POWER_ELEXM_COAL_MW  ...  \\\n",
      "179837                 0.0                721.0  ...   \n",
      "179838                 0.0                793.0  ...   \n",
      "179839                 0.0                749.0  ...   \n",
      "179840                 0.0                710.0  ...   \n",
      "179841                 0.0                686.0  ...   \n",
      "...                    ...                  ...  ...   \n",
      "202402                 0.0                  0.0  ...   \n",
      "202403                 0.0                  0.0  ...   \n",
      "202404                 0.0                  0.0  ...   \n",
      "202405                 0.0                  0.0  ...   \n",
      "202406                 0.0                  0.0  ...   \n",
      "\n",
      "        POWER_ELEXM_BIOMASS_POSTCALC_MW  \\\n",
      "179837                           1564.0   \n",
      "179838                           1576.0   \n",
      "179839                           1591.0   \n",
      "179840                           1583.0   \n",
      "179841                           1594.0   \n",
      "...                                 ...   \n",
      "202402                            325.0   \n",
      "202403                            323.0   \n",
      "202404                            334.0   \n",
      "202405                            351.0   \n",
      "202406                            364.0   \n",
      "\n",
      "        POWER_NGEM_EMBEDDED_SOLAR_GENERATION_MW  \\\n",
      "179837                                      862   \n",
      "179838                                     1000   \n",
      "179839                                     1150   \n",
      "179840                                     1460   \n",
      "179841                                     1380   \n",
      "...                                         ...   \n",
      "202402                                     5630   \n",
      "202403                                     5310   \n",
      "202404                                     4670   \n",
      "202405                                     4020   \n",
      "202406                                     3520   \n",
      "\n",
      "        POWER_NGEM_EMBEDDED_WIND_GENERATION_MW  POWER_NGEM_BRITNED_FLOW_MW  \\\n",
      "179837                                    5041                        1058   \n",
      "179838                                    5090                        1002   \n",
      "179839                                    5140                        1000   \n",
      "179840                                    5110                        1000   \n",
      "179841                                    5079                        1000   \n",
      "...                                        ...                         ...   \n",
      "202402                                    5172                        -345   \n",
      "202403                                    5164                        -342   \n",
      "202404                                    5131                         306   \n",
      "202405                                    5098                         333   \n",
      "202406                                    5042                           3   \n",
      "\n",
      "        POWER_NGEM_EAST_WEST_FLOW_MW  POWER_NGEM_MOYLE_FLOW_MW  \\\n",
      "179837                           504                        12   \n",
      "179838                           504                        50   \n",
      "179839                           504                        15   \n",
      "179840                           478                        27   \n",
      "179841                           475                        70   \n",
      "...                              ...                       ...   \n",
      "202402                          -232                      -456   \n",
      "202403                           -80                      -399   \n",
      "202404                            24                      -249   \n",
      "202405                           162                       -99   \n",
      "202406                           298                      -123   \n",
      "\n",
      "        POWER_NGEM_NEMO_FLOW_MW  POWER_NGEM_IFA_FLOW_MW  \\\n",
      "179837                   1000.0                    1995   \n",
      "179838                   1000.0                    1995   \n",
      "179839                   1000.0                    1995   \n",
      "179840                   1000.0                    1995   \n",
      "179841                   1000.0                    1995   \n",
      "...                         ...                     ...   \n",
      "202402                   -594.0                   -1379   \n",
      "202403                   -600.0                   -1379   \n",
      "202404                    -80.0                   -1055   \n",
      "202405                    -57.0                   -1042   \n",
      "202406                   -254.0                   -1190   \n",
      "\n",
      "        POWER_NGEM_IFA2_FLOW_MW  POWER_NGEM_NSL_FLOW_MW  \n",
      "179837                      NaN                     NaN  \n",
      "179838                      NaN                     NaN  \n",
      "179839                      NaN                     NaN  \n",
      "179840                      NaN                     NaN  \n",
      "179841                      NaN                     NaN  \n",
      "...                         ...                     ...  \n",
      "202402                      NaN                     NaN  \n",
      "202403                      NaN                     NaN  \n",
      "202404                      NaN                     NaN  \n",
      "202405                      NaN                     NaN  \n",
      "202406                      NaN                     NaN  \n",
      "\n",
      "[265 rows x 26 columns]\n"
     ]
    }
   ],
   "source": [
    "def selectRange(df,c,lo):\n",
    "    if c in df.columns:\n",
    "        #if df[df[c]>=lo]:\n",
    "            return df[df[c]>=lo]\n",
    "    else:\n",
    "            return None\n",
    "\n",
    "r=selectRange(dataset,'POWER_NGEM_EMBEDDED_WIND_GENERATION_MW',5000)\n",
    "print(r)\n",
    "            "
   ]
  },
  {
   "cell_type": "code",
   "execution_count": 110,
   "id": "ccb2d279",
   "metadata": {},
   "outputs": [
    {
     "name": "stdout",
     "output_type": "stream",
     "text": [
      "POWER_NGEM_EMBEDDED_WIND_GENERATION_MW    2207.0\n",
      "POWER_NGEM_IFA_FLOW_MW                       0.0\n",
      "POWER_ELEXM_WIND_MW                       8557.5\n",
      "dtype: float64\n"
     ]
    }
   ],
   "source": [
    "def medianDate(df,cDate,date,l):\n",
    "        if cDate in df.columns:\n",
    "            filter=df[df[cDate]==date]\n",
    "            return filter[l].median()\n",
    "    \n",
    "    \n",
    "            return median_df\n",
    "        else:\n",
    "            return None\n",
    "\n",
    "l = ['POWER_NGEM_EMBEDDED_WIND_GENERATION_MW','POWER_NGEM_IFA_FLOW_MW','POWER_ELEXM_WIND_MW']\n",
    "meds = medianDate(dataset,'ELEXM_SETTLEMENT_DATE', '2021-10-02', l )\n",
    "print(meds.head(3))\n",
    "\n",
    "    "
   ]
  },
  {
   "cell_type": "code",
   "execution_count": null,
   "id": "a3db4680",
   "metadata": {},
   "outputs": [],
   "source": []
  }
 ],
 "metadata": {
  "kernelspec": {
   "display_name": "Python 3 (ipykernel)",
   "language": "python",
   "name": "python3"
  },
  "language_info": {
   "codemirror_mode": {
    "name": "ipython",
    "version": 3
   },
   "file_extension": ".py",
   "mimetype": "text/x-python",
   "name": "python",
   "nbconvert_exporter": "python",
   "pygments_lexer": "ipython3",
   "version": "3.10.9"
  }
 },
 "nbformat": 4,
 "nbformat_minor": 5
}
