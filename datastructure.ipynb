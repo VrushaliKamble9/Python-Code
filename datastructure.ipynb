{
  "nbformat": 4,
  "nbformat_minor": 0,
  "metadata": {
    "colab": {
      "provenance": [],
      "authorship_tag": "ABX9TyOL+qQ0aSPPI6FZYj9QDvCJ",
      "include_colab_link": true
    },
    "kernelspec": {
      "name": "python3",
      "display_name": "Python 3"
    },
    "language_info": {
      "name": "python"
    }
  },
  "cells": [
    {
      "cell_type": "markdown",
      "metadata": {
        "id": "view-in-github",
        "colab_type": "text"
      },
      "source": [
        "<a href=\"https://colab.research.google.com/github/VrushaliKamble9/Python-Code/blob/main/datastructure.ipynb\" target=\"_parent\"><img src=\"https://colab.research.google.com/assets/colab-badge.svg\" alt=\"Open In Colab\"/></a>"
      ]
    },
    {
      "cell_type": "code",
      "execution_count": 10,
      "metadata": {
        "colab": {
          "base_uri": "https://localhost:8080/"
        },
        "id": "9vYferhB6qde",
        "outputId": "6d5567dc-559f-47c4-eb82-8feb89d18ea0"
      },
      "outputs": [
        {
          "output_type": "stream",
          "name": "stdout",
          "text": [
            "list does not have string\n",
            "list does not have string\n",
            "list does not have string\n",
            "[1, 2, 3, 5.2]\n"
          ]
        }
      ],
      "source": [
        "#create list with different type of datatype\n",
        "\n",
        "a=[1,2,3, \"name\",5.2]\n",
        "for i in a:\n",
        "  if type(i)==str:\n",
        "    a.remove(i)\n",
        "  else:\n",
        "    print(\"list does not have string\")\n",
        "print(a)"
      ]
    },
    {
      "cell_type": "code",
      "source": [
        "a = [3.2, 'hello', [4, 8, 17.1]]\n",
        "for i in a:\n",
        "  if type(i)==list:\n",
        "      print(i)\n",
        "\n",
        "print(a[2][:])"
      ],
      "metadata": {
        "colab": {
          "base_uri": "https://localhost:8080/"
        },
        "id": "RvHWvwby8zRp",
        "outputId": "ba398bda-7148-454b-c240-551fa7d90284"
      },
      "execution_count": 15,
      "outputs": [
        {
          "output_type": "stream",
          "name": "stdout",
          "text": [
            "[4, 8, 17.1]\n",
            "[4, 8, 17.1]\n"
          ]
        }
      ]
    },
    {
      "cell_type": "code",
      "source": [
        "a = [3.2,'hello', [4, 8, 17.1],3.2]\n",
        "b=a.copy()\n",
        "b.pop()\n",
        "print(a)\n",
        "print(b)\n",
        "print(max(a[2]))"
      ],
      "metadata": {
        "colab": {
          "base_uri": "https://localhost:8080/"
        },
        "id": "fTIpWflqAucJ",
        "outputId": "2c275252-22b7-4f92-e092-fcc654e7a85a"
      },
      "execution_count": 33,
      "outputs": [
        {
          "output_type": "stream",
          "name": "stdout",
          "text": [
            "[3.2, 'hello', [4, 8, 17.1], 3.2]\n",
            "[3.2, 'hello', [4, 8, 17.1]]\n",
            "17.1\n"
          ]
        }
      ]
    },
    {
      "cell_type": "code",
      "source": [
        "lst=[56,21,9,65,85,69,800]\n",
        "max=lst[0]\n",
        "for i in range(len(lst)):\n",
        "  if lst[i]>max:\n",
        "     max=lst[i]\n",
        "print(max)\n"
      ],
      "metadata": {
        "colab": {
          "base_uri": "https://localhost:8080/"
        },
        "id": "xqCnJMsBDGQw",
        "outputId": "d1ba1897-dec0-4e5b-ac53-5e30ab88078c"
      },
      "execution_count": 40,
      "outputs": [
        {
          "output_type": "stream",
          "name": "stdout",
          "text": [
            "800\n"
          ]
        }
      ]
    },
    {
      "cell_type": "code",
      "source": [
        "mylist=((1,\"a\"),(2,\"b\"),(3,\"c\"),(4,\"d\"))\n",
        "for i in mylist:\n",
        " print(i[1])"
      ],
      "metadata": {
        "colab": {
          "base_uri": "https://localhost:8080/"
        },
        "id": "Rmx7_RI3Io1o",
        "outputId": "ab9e48e5-e15c-4df4-9057-823762b2d090"
      },
      "execution_count": 42,
      "outputs": [
        {
          "output_type": "stream",
          "name": "stdout",
          "text": [
            "a\n",
            "b\n",
            "c\n",
            "d\n"
          ]
        }
      ]
    },
    {
      "cell_type": "code",
      "source": [
        "name=\"JaSonAy\"\n",
        "l=len(name)\n",
        "if l%2==0:\n",
        " print(\"not possible\")\n",
        "else:\n",
        " c=l//2\n",
        " x=name[c-1]\n",
        " y=name[c]\n",
        " z=name[c+1]\n",
        "\n",
        " result=\"\".join([x,y,z])\n",
        "\n",
        " print(result)\n"
      ],
      "metadata": {
        "colab": {
          "base_uri": "https://localhost:8080/"
        },
        "id": "Z-xJQiY6KsIG",
        "outputId": "411b52d0-1610-4557-c27e-ddcc250e308b"
      },
      "execution_count": 44,
      "outputs": [
        {
          "output_type": "stream",
          "name": "stdout",
          "text": [
            "3\n"
          ]
        }
      ]
    },
    {
      "cell_type": "code",
      "source": [
        "#Count the occurrence of each element from a list and create a dictonary\n",
        "\n",
        "list1 = [11, 45, 8, 11, 23, 45, 23, 45, 89]\n",
        "mydict=dict()\n",
        "\n",
        "for i in list1:\n",
        "  if i in mydict:\n",
        "    mydict[i]+=1\n",
        "  else:\n",
        "    mydict[i]=1\n",
        "\n",
        "print(mydict)"
      ],
      "metadata": {
        "colab": {
          "base_uri": "https://localhost:8080/"
        },
        "id": "9JsfNgDvLEhL",
        "outputId": "88112a31-6440-446a-a63e-90db4f67a7bd"
      },
      "execution_count": 47,
      "outputs": [
        {
          "output_type": "stream",
          "name": "stdout",
          "text": [
            "{11: 2, 45: 3, 8: 1, 23: 2, 89: 1}\n"
          ]
        }
      ]
    },
    {
      "cell_type": "code",
      "source": [
        "#Create a Python set such that it shows the element from both lists in a pair\n",
        "\n",
        "first_list = [2, 3, 4, 5, 6, 7, 8]\n",
        "second_list = [4, 9, 16, 25, 36, 49, 64]\n",
        "result=[]\n",
        "\n",
        "for i in range (len(first_list)):\n",
        "    result.append((first_list[i],second_list[i]))\n",
        "\n",
        "print(result)\n",
        "\n",
        "\n",
        "result_dict={}\n",
        "\n",
        "for i in range (len(first_list)):\n",
        "  result_dict[first_list[i]]=second_list[i]\n",
        "\n",
        "print(result_dict)"
      ],
      "metadata": {
        "colab": {
          "base_uri": "https://localhost:8080/"
        },
        "id": "DLtZJedRMjne",
        "outputId": "44edb5a6-cdab-4e59-9dcd-a55a699c8505"
      },
      "execution_count": 54,
      "outputs": [
        {
          "output_type": "stream",
          "name": "stdout",
          "text": [
            "[(2, 4), (3, 9), (4, 16), (5, 25), (6, 36), (7, 49), (8, 64)]\n",
            "{2: 4, 3: 9, 4: 16, 5: 25, 6: 36, 7: 49, 8: 64}\n"
          ]
        }
      ]
    },
    {
      "cell_type": "code",
      "source": [
        "#Exercise 6: Find the intersection (common) of two sets and remove those elements from the first\n",
        "\n",
        "first_set = {23, 42, 65, 57, 78, 83, 29}\n",
        "second_set = {57, 83, 29, 67, 73, 43, 48}\n",
        "intersection=set()\n",
        "\n",
        "for i in first_set:\n",
        "   if i in second_set:\n",
        "     intersection.add(i)\n",
        "\n",
        "print(intersection)\n",
        "\n",
        "\n",
        "first_set = {23, 42, 65, 57, 78, 83, 29}\n",
        "second_set = {57, 83, 29, 67, 73, 43, 48}\n",
        "\n",
        "# Find intersection\n",
        "intersection = set()\n",
        "\n",
        "for num in first_set:\n",
        "    if num in second_set:\n",
        "        intersection.add(num)\n",
        "\n",
        "# Remove common elements from first_set\n",
        "for num in intersection:\n",
        "    first_set.remove(num)\n",
        "\n",
        "print(first_set)\n"
      ],
      "metadata": {
        "colab": {
          "base_uri": "https://localhost:8080/"
        },
        "id": "fVXruyr7N8KD",
        "outputId": "393d92f0-dc2c-4a62-bc7d-2c8f5e2e5cda"
      },
      "execution_count": 70,
      "outputs": [
        {
          "output_type": "stream",
          "name": "stdout",
          "text": [
            "{57, 83, 29}\n",
            "{65, 23, 42, 78}\n"
          ]
        }
      ]
    },
    {
      "cell_type": "code",
      "source": [
        "dict1={'Ten':10,'Twenty':20,'Thirty':30}\n",
        "dict2={'Thirteen':13}\n",
        "\n",
        "dict3=dict1.copy()\n",
        "dict3.update(dict2)\n",
        "\n",
        "print(dict3)"
      ],
      "metadata": {
        "colab": {
          "base_uri": "https://localhost:8080/"
        },
        "id": "wK5uh9c9qskb",
        "outputId": "8be9a876-5c3a-4cc5-dd0f-2bfa5ffff737"
      },
      "execution_count": 1,
      "outputs": [
        {
          "output_type": "stream",
          "name": "stdout",
          "text": [
            "{'Ten': 10, 'Twenty': 20, 'Thirty': 30, 'Thirteen': 13}\n"
          ]
        }
      ]
    },
    {
      "cell_type": "code",
      "source": [
        "set1 = {10, 20, 30, 40, 50}\n",
        "set2 = {30, 40, 50, 60, 70}\n",
        "\n",
        "\n",
        "set3=set()\n",
        "for i in set1:\n",
        "  if i in set1 or i in set2:\n",
        "    set3.add(i)\n",
        "\n",
        "print(set3)"
      ],
      "metadata": {
        "colab": {
          "base_uri": "https://localhost:8080/"
        },
        "id": "C5ugo1xBvLU-",
        "outputId": "29c3cb7c-22fa-4e04-b082-4231f7ef0901"
      },
      "execution_count": 15,
      "outputs": [
        {
          "output_type": "stream",
          "name": "stdout",
          "text": [
            "{40, 10, 50, 20, 30}\n"
          ]
        }
      ]
    }
  ]
}